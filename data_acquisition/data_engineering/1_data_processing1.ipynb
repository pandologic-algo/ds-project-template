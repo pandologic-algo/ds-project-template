{
 "cells": [
  {
   "cell_type": "markdown",
   "metadata": {},
   "source": [
    "# Data Processing  Phase 1\n",
    "\n",
    "This step is the first step in model developing.\n",
    "\n",
    "It include initial steps before the data anlaysis such as:\n",
    "\n",
    "1. Change features names.\n",
    "2. Change datatypes.\n",
    "3. Remove unwanted features.\n",
    "4. Imputing missing values.\n",
    "5. Deal with duplications.\n",
    "6. Deal with logical validations.\n",
    "\n",
    "Next step is Data Analysis."
   ]
  },
  {
   "cell_type": "markdown",
   "metadata": {},
   "source": [
    "# Import\n",
    "\n",
    "Import all the needed modules"
   ]
  },
  {
   "cell_type": "code",
   "execution_count": null,
   "metadata": {
    "ExecuteTime": {
     "end_time": "2019-01-24T13:37:01.456131Z",
     "start_time": "2019-01-24T13:37:01.154428Z"
    }
   },
   "outputs": [],
   "source": [
    "import os\n",
    "import json\n",
    "import re\n",
    "import pandas as pd\n",
    "import numpy as np"
   ]
  },
  {
   "cell_type": "markdown",
   "metadata": {},
   "source": [
    "# Init"
   ]
  },
  {
   "cell_type": "code",
   "execution_count": null,
   "metadata": {},
   "outputs": [],
   "source": [
    "# pandas columns setting\n",
    "pd.set_option('display.max_columns', 30)\n",
    "\n",
    "# disable warning\n",
    "import warnings\n",
    "warnings.filterwarnings('ignore')\n",
    "\n",
    "# notebook width\n",
    "from IPython.core.display import display, HTML\n",
    "display(HTML(\"<style>.container { width:80% !important; }</style>\"))"
   ]
  },
  {
   "cell_type": "markdown",
   "metadata": {},
   "source": [
    "# Load data"
   ]
  },
  {
   "cell_type": "code",
   "execution_count": null,
   "metadata": {
    "ExecuteTime": {
     "end_time": "2019-01-24T13:37:02.954659Z",
     "start_time": "2019-01-24T13:37:02.866096Z"
    }
   },
   "outputs": [],
   "source": [
    "file_path = r'/path/...'\n",
    "\n",
    "# read data"
   ]
  },
  {
   "cell_type": "code",
   "execution_count": null,
   "metadata": {
    "ExecuteTime": {
     "end_time": "2019-01-24T13:37:04.375243Z",
     "start_time": "2019-01-24T13:37:04.340219Z"
    }
   },
   "outputs": [],
   "source": [
    "# data first rows\n",
    "df.head()"
   ]
  },
  {
   "cell_type": "code",
   "execution_count": null,
   "metadata": {
    "ExecuteTime": {
     "end_time": "2019-01-24T13:37:05.435332Z",
     "start_time": "2019-01-24T13:37:05.236699Z"
    }
   },
   "outputs": [],
   "source": [
    "# get info on data types, size and missing values\n",
    "df.info()"
   ]
  },
  {
   "cell_type": "code",
   "execution_count": null,
   "metadata": {
    "ExecuteTime": {
     "end_time": "2019-01-24T13:37:06.070781Z",
     "start_time": "2019-01-24T13:37:06.066778Z"
    }
   },
   "outputs": [],
   "source": [
    "# change data columns names to PEP \n",
    "df.columns = [col.lower() if '_' in col else '_'.join(re.findall('[A-Z][^A-Z]*', col)).lower() for  col in df.columns]"
   ]
  },
  {
   "cell_type": "code",
   "execution_count": null,
   "metadata": {
    "ExecuteTime": {
     "end_time": "2019-01-24T13:37:09.875060Z",
     "start_time": "2019-01-24T13:37:09.762486Z"
    }
   },
   "outputs": [],
   "source": [
    "# rename jobactualactivedays\n",
    "df.rename(index=str, columns={'original_col': 'new_col'}, inplace=True)"
   ]
  },
  {
   "cell_type": "markdown",
   "metadata": {},
   "source": [
    "# Data Invalidations\n",
    "\n",
    "Data Invalidations is being made by the next steps:\n",
    "1. Search for uneeded features.\n",
    "2. Data types correctness.\n",
    "3. Searching missing values.\n",
    "4. Duplications in data set.\n",
    "5. Logical validation."
   ]
  },
  {
   "cell_type": "code",
   "execution_count": null,
   "metadata": {
    "ExecuteTime": {
     "end_time": "2019-01-23T12:59:18.600348Z",
     "start_time": "2019-01-23T12:59:18.474761Z"
    }
   },
   "outputs": [],
   "source": [
    "# new dataframe columns names info\n",
    "df.info()"
   ]
  },
  {
   "cell_type": "markdown",
   "metadata": {},
   "source": [
    "## remove features\n",
    "\n",
    "Some features were extracted from the database and has no need in the next model development steps. \n",
    "Reducing features number has a great contribution on model development success.  "
   ]
  },
  {
   "cell_type": "code",
   "execution_count": null,
   "metadata": {
    "ExecuteTime": {
     "end_time": "2019-01-23T12:59:18.620361Z",
     "start_time": "2019-01-23T12:59:18.602349Z"
    }
   },
   "outputs": [],
   "source": [
    "# drop undeeded features\n",
    "df.drop(['col1', 'col2'], axis=1, inplace=True)"
   ]
  },
  {
   "cell_type": "markdown",
   "metadata": {},
   "source": [
    "## Data Types\n",
    "\n",
    "Covert to appropriate data types."
   ]
  },
  {
   "cell_type": "code",
   "execution_count": null,
   "metadata": {
    "ExecuteTime": {
     "end_time": "2019-01-23T12:59:18.963593Z",
     "start_time": "2019-01-23T12:59:18.621862Z"
    }
   },
   "outputs": [],
   "source": [
    "# IDs (numeric to object/str)\n",
    "df.col_id = df.col_id.apply(lambda x: str(int(x)))\n",
    "\n",
    "# to int \n",
    "df.some_col = df.some_col.as_type('int')\n",
    "\n",
    "# object to int\n",
    "df.some_col = df.some_col.as_type('object')\n",
    "\n",
    "# bool to numberic\n",
    "df.bool_col = pd.to_numeric(df.bool_col)\n",
    "\n",
    "# datetime\n",
    "df.datetime_col = pd.to_datetime(df.datetime_col)\n"
   ]
  },
  {
   "cell_type": "markdown",
   "metadata": {},
   "source": [
    "## Missing values\n",
    "\n",
    "Missing values are something common in every dataset. \n",
    "The following steps can be applied:\n",
    "1. Too many missing values in some features - drop columns\n",
    "2. Some rows has many missing values - drop rows.\n",
    "3. Inconsistancy inmissing values - fill values with soem strategy: constant value, means, quantiles or advanced imputing strategy."
   ]
  },
  {
   "cell_type": "code",
   "execution_count": null,
   "metadata": {
    "ExecuteTime": {
     "end_time": "2019-01-23T12:59:20.082930Z",
     "start_time": "2019-01-23T12:59:18.965095Z"
    }
   },
   "outputs": [],
   "source": [
    "# calculate missing values of each feature\n",
    "(1 - (df.apply(lambda x: x.count(), axis=0)/df.shape[0])).sort_values(ascending=False).head(30)"
   ]
  },
  {
   "cell_type": "code",
   "execution_count": null,
   "metadata": {
    "ExecuteTime": {
     "end_time": "2019-01-23T12:59:20.210015Z",
     "start_time": "2019-01-23T12:59:20.084431Z"
    }
   },
   "outputs": [],
   "source": [
    "# calculate missing values of category features (empty string)\n",
    "numerics_columns = df.select_dtypes(include='object')\n",
    "#\n",
    "count\n",
    "(1 - (numerics_columns.apply(lambda x: x[x!=''].count(), \n",
    "                             axis=0)/numerics_columns.shape[0])).sort_values(ascending=False).head(5)"
   ]
  },
  {
   "cell_type": "markdown",
   "metadata": {},
   "source": [
    "__Fast Imputing__"
   ]
  },
  {
   "cell_type": "code",
   "execution_count": null,
   "metadata": {
    "ExecuteTime": {
     "end_time": "2019-01-23T12:59:20.552747Z",
     "start_time": "2019-01-23T12:59:20.211516Z"
    }
   },
   "outputs": [],
   "source": [
    "# fill null values with constant value\n",
    "cols_to_fill = ['col1','col2']\n",
    "df.loc[:, df.columns.isin(cols_to_fill)] = df.loc[:, df.columns.isin(cols_to_fill)].fillna(0)\n",
    "df.col_with_nulls[df.col_with_nulls.isnull()] = const\n",
    "\n",
    "# empty categories\n",
    "df.cat_col[df.cat_col==''] = 'Missing'"
   ]
  },
  {
   "cell_type": "markdown",
   "metadata": {},
   "source": [
    "__Complex Imputing__"
   ]
  },
  {
   "cell_type": "code",
   "execution_count": null,
   "metadata": {
    "ExecuteTime": {
     "end_time": "2019-01-23T12:59:20.556250Z",
     "start_time": "2019-01-23T12:59:20.554250Z"
    }
   },
   "outputs": [],
   "source": [
    "# some complex null values imputing, such as means or quantiles values.\n",
    "# knn imputing"
   ]
  },
  {
   "cell_type": "markdown",
   "metadata": {},
   "source": [
    "## Duplications\n",
    "\n",
    "There are two possible duplications types:\n",
    "1. Entire row is duplicated.\n",
    "2. Duplication according to some business logic (atomic features).\n",
    "\n",
    "Duplication from type 1 should be dropped.\n",
    "\n",
    "Duplication from type 2 should be investigated for their origin."
   ]
  },
  {
   "cell_type": "markdown",
   "metadata": {},
   "source": [
    "__Duplicated rows__"
   ]
  },
  {
   "cell_type": "code",
   "execution_count": null,
   "metadata": {
    "ExecuteTime": {
     "end_time": "2019-01-23T12:59:20.748381Z",
     "start_time": "2019-01-23T12:59:20.557751Z"
    }
   },
   "outputs": [],
   "source": [
    "# calculate duplicates rows count\n",
    "duplications_count = df[df.duplicated()].shape[0]\n",
    "print('Number of duplications {}'.format(duplications_count))"
   ]
  },
  {
   "cell_type": "markdown",
   "metadata": {},
   "source": [
    "__Atomic features duplications__"
   ]
  },
  {
   "cell_type": "code",
   "execution_count": null,
   "metadata": {
    "ExecuteTime": {
     "end_time": "2019-01-23T12:59:20.962025Z",
     "start_time": "2019-01-23T12:59:20.749881Z"
    }
   },
   "outputs": [],
   "source": [
    "# Cycle and job are the atomic features here \n",
    "granularity_cols = ['granularity_col1', 'granularity_col2']\n",
    "cycle_job_dups = df.groupby(granularity_cols, as_index=False).count().iloc[:, 0:(len(granularity_cols)+1)]\n",
    "\n",
    "cycle_job_dups.columns = granularity_cols + ['count']\n",
    "cycle_job_dups.sort_values('count', ascending=False).head()"
   ]
  },
  {
   "cell_type": "markdown",
   "metadata": {},
   "source": [
    "## Logical validation\n",
    "\n",
    "The next logical rules will be tested:\n",
    "\n",
    "1. Negative values.\n",
    "2. Check uniques values.\n",
    "3. Domain knowledge values.\n"
   ]
  },
  {
   "cell_type": "markdown",
   "metadata": {},
   "source": [
    "__bla bla__"
   ]
  },
  {
   "cell_type": "code",
   "execution_count": null,
   "metadata": {
    "ExecuteTime": {
     "end_time": "2019-03-03T12:00:57.255869Z",
     "start_time": "2019-03-03T12:00:57.253866Z"
    }
   },
   "outputs": [],
   "source": [
    "# some logical rule\n"
   ]
  },
  {
   "cell_type": "markdown",
   "metadata": {},
   "source": [
    "__Negative values__"
   ]
  },
  {
   "cell_type": "code",
   "execution_count": null,
   "metadata": {
    "ExecuteTime": {
     "end_time": "2019-01-23T12:59:21.055590Z",
     "start_time": "2019-01-23T12:59:20.972032Z"
    }
   },
   "outputs": [],
   "source": [
    "# columns with negative values\n",
    "numerics = ['int16', 'int32', 'int64', 'float16', 'float32', 'float64']\n",
    "numerics_columns = df.select_dtypes(include=numerics)\n",
    "numerics_columns.columns[(numerics_columns < 0).any()].tolist()"
   ]
  },
  {
   "cell_type": "code",
   "execution_count": null,
   "metadata": {
    "ExecuteTime": {
     "end_time": "2019-01-23T12:59:21.062593Z",
     "start_time": "2019-01-23T12:59:21.057090Z"
    }
   },
   "outputs": [],
   "source": [
    "# col_with_negatives negative values\n",
    "col_negative_vals = df.loc[df.col_with_negatives<0, 'col_with_negatives'].shape[0]/df.shape[0]\n",
    "print('col_with_negatives number of negative values - {0:.2%}'.format(col_negative_vals))"
   ]
  },
  {
   "cell_type": "code",
   "execution_count": null,
   "metadata": {
    "ExecuteTime": {
     "end_time": "2019-01-23T12:59:21.070599Z",
     "start_time": "2019-01-23T12:59:21.064595Z"
    }
   },
   "outputs": [],
   "source": [
    "# show the rows with negative col_with_negatives level\n",
    "df.loc[df.col_with_negatives<0, 'col_with_negatives'].head(10)"
   ]
  },
  {
   "cell_type": "markdown",
   "metadata": {},
   "source": [
    "__Unique values__"
   ]
  },
  {
   "cell_type": "code",
   "execution_count": null,
   "metadata": {},
   "outputs": [],
   "source": [
    "df.some_col.unique()"
   ]
  },
  {
   "cell_type": "markdown",
   "metadata": {},
   "source": [
    "__....__"
   ]
  },
  {
   "cell_type": "code",
   "execution_count": null,
   "metadata": {},
   "outputs": [],
   "source": []
  },
  {
   "cell_type": "markdown",
   "metadata": {},
   "source": [
    "# Quick EDA"
   ]
  },
  {
   "cell_type": "markdown",
   "metadata": {},
   "source": [
    "## Continuous data"
   ]
  },
  {
   "cell_type": "code",
   "execution_count": null,
   "metadata": {
    "ExecuteTime": {
     "end_time": "2019-01-23T12:59:21.672008Z",
     "start_time": "2019-01-23T12:59:21.645990Z"
    }
   },
   "outputs": [],
   "source": [
    "# numeric data types\n",
    "numerics = ['int16', 'int32', 'int64', 'float16', 'float32', 'float64']\n",
    "\n",
    "# numeric columns\n",
    "numerics_columns_types = df.select_dtypes(include=numerics).columns\n",
    "\n",
    "# exclude boolean and descrete columns\n",
    "bool_cols = ['is_', 'has_']\n",
    "descrete_cols = ['col1']\n",
    "                                             \n",
    "exclude_fun = lambda y: any(x in y for x in bool_cols + descrete_cols)\n",
    "numeric_cols = [col for col in numerics_columns_types if not exclude_fun(col)]"
   ]
  },
  {
   "cell_type": "code",
   "execution_count": null,
   "metadata": {
    "ExecuteTime": {
     "end_time": "2019-01-23T12:59:21.746560Z",
     "start_time": "2019-01-23T12:59:21.674011Z"
    }
   },
   "outputs": [],
   "source": [
    "df.loc[: ,numeric_cols].iloc[:, 0:10].describe()"
   ]
  },
  {
   "cell_type": "code",
   "execution_count": null,
   "metadata": {
    "ExecuteTime": {
     "end_time": "2019-01-23T12:59:21.795128Z",
     "start_time": "2019-01-23T12:59:21.748060Z"
    }
   },
   "outputs": [],
   "source": [
    "df.loc[: ,numeric_cols].iloc[:, 10:16].describe()"
   ]
  },
  {
   "cell_type": "markdown",
   "metadata": {},
   "source": [
    "__Continuous data conclusions:__\n",
    "\n",
    "* conclus 1"
   ]
  },
  {
   "cell_type": "markdown",
   "metadata": {},
   "source": [
    "__Continuous data Operations:__"
   ]
  },
  {
   "cell_type": "code",
   "execution_count": null,
   "metadata": {
    "ExecuteTime": {
     "end_time": "2019-01-23T12:59:22.006285Z",
     "start_time": "2019-01-23T12:59:21.953249Z"
    }
   },
   "outputs": [],
   "source": [
    "# action 1"
   ]
  },
  {
   "cell_type": "code",
   "execution_count": null,
   "metadata": {
    "ExecuteTime": {
     "end_time": "2019-01-23T12:59:22.010288Z",
     "start_time": "2019-01-23T12:59:22.007786Z"
    }
   },
   "outputs": [],
   "source": [
    "# reset index\n",
    "df.reset_index(drop=True, inplace=True)"
   ]
  },
  {
   "cell_type": "markdown",
   "metadata": {},
   "source": [
    "## Boolean data"
   ]
  },
  {
   "cell_type": "code",
   "execution_count": null,
   "metadata": {
    "ExecuteTime": {
     "end_time": "2019-01-23T12:59:22.037306Z",
     "start_time": "2019-01-23T12:59:22.012289Z"
    }
   },
   "outputs": [],
   "source": [
    "# numeric data types\n",
    "numerics = ['int16', 'int32', 'int64', 'float16', 'float32', 'float64']\n",
    "\n",
    "# numeric columns\n",
    "numerics_columns_types = df.select_dtypes(include=numerics).columns\n",
    "\n",
    "# exclude boolean columns\n",
    "exclude_fun = lambda y: any(x in y for x in ['is_', 'has_', 'have'])\n",
    "boolean_cols = [col for col in numerics_columns_types if exclude_fun(col)]"
   ]
  },
  {
   "cell_type": "code",
   "execution_count": null,
   "metadata": {
    "ExecuteTime": {
     "end_time": "2019-01-23T12:59:22.106353Z",
     "start_time": "2019-01-23T12:59:22.038807Z"
    }
   },
   "outputs": [],
   "source": [
    "df[boolean_cols].iloc[:, :10].describe()"
   ]
  },
  {
   "cell_type": "code",
   "execution_count": null,
   "metadata": {
    "ExecuteTime": {
     "end_time": "2019-01-23T12:59:22.157888Z",
     "start_time": "2019-01-23T12:59:22.107854Z"
    }
   },
   "outputs": [],
   "source": [
    "df[boolean_cols].iloc[:, 10:].describe()"
   ]
  },
  {
   "cell_type": "markdown",
   "metadata": {},
   "source": [
    "__Boolean data conclusions:__\n",
    "\n",
    "* conclus 1"
   ]
  },
  {
   "cell_type": "markdown",
   "metadata": {},
   "source": [
    "__Boolean data Operations:__"
   ]
  },
  {
   "cell_type": "code",
   "execution_count": null,
   "metadata": {
    "ExecuteTime": {
     "end_time": "2019-03-03T12:07:24.723629Z",
     "start_time": "2019-03-03T12:07:24.720630Z"
    }
   },
   "outputs": [],
   "source": [
    "# action 1"
   ]
  },
  {
   "cell_type": "markdown",
   "metadata": {},
   "source": [
    "## Discrete data"
   ]
  },
  {
   "cell_type": "code",
   "execution_count": null,
   "metadata": {
    "ExecuteTime": {
     "end_time": "2019-01-23T12:59:22.274968Z",
     "start_time": "2019-01-23T12:59:22.209424Z"
    }
   },
   "outputs": [],
   "source": [
    "discrete_cols = ['col1']\n",
    "df[discrete_cols].describe()"
   ]
  },
  {
   "cell_type": "markdown",
   "metadata": {},
   "source": [
    "__Discrete data conclusions:__\n",
    "\n",
    "* conclus 1"
   ]
  },
  {
   "cell_type": "markdown",
   "metadata": {},
   "source": [
    "__Discrete data Operations:__"
   ]
  },
  {
   "cell_type": "code",
   "execution_count": null,
   "metadata": {
    "ExecuteTime": {
     "end_time": "2019-03-03T12:08:04.212921Z",
     "start_time": "2019-03-03T12:08:04.209922Z"
    }
   },
   "outputs": [],
   "source": [
    "# action 1"
   ]
  },
  {
   "cell_type": "markdown",
   "metadata": {},
   "source": [
    "## Categorical data"
   ]
  },
  {
   "cell_type": "code",
   "execution_count": null,
   "metadata": {
    "ExecuteTime": {
     "end_time": "2019-01-23T12:59:22.517633Z",
     "start_time": "2019-01-23T12:59:22.312492Z"
    }
   },
   "outputs": [],
   "source": [
    "df.describe(include='object')"
   ]
  },
  {
   "cell_type": "markdown",
   "metadata": {},
   "source": [
    "__Categorical  data conclusions:__\n",
    "\n",
    "* concluse 1"
   ]
  },
  {
   "cell_type": "markdown",
   "metadata": {},
   "source": [
    "__Categorical  data Operations:__"
   ]
  },
  {
   "cell_type": "code",
   "execution_count": null,
   "metadata": {
    "ExecuteTime": {
     "end_time": "2019-03-03T12:08:22.146567Z",
     "start_time": "2019-03-03T12:08:22.142573Z"
    }
   },
   "outputs": [],
   "source": [
    "# action 1"
   ]
  },
  {
   "cell_type": "markdown",
   "metadata": {},
   "source": [
    "## Datetime data"
   ]
  },
  {
   "cell_type": "code",
   "execution_count": null,
   "metadata": {
    "ExecuteTime": {
     "end_time": "2019-01-23T12:59:22.720271Z",
     "start_time": "2019-01-23T12:59:22.687248Z"
    }
   },
   "outputs": [],
   "source": [
    "df.describe(include='datetime')"
   ]
  },
  {
   "cell_type": "markdown",
   "metadata": {},
   "source": [
    "__Datetime data conclusions:__\n",
    "\n",
    "* concluse 1"
   ]
  },
  {
   "cell_type": "markdown",
   "metadata": {},
   "source": [
    "__Datetime data Operations:__"
   ]
  },
  {
   "cell_type": "code",
   "execution_count": null,
   "metadata": {
    "ExecuteTime": {
     "end_time": "2019-03-03T12:08:44.067454Z",
     "start_time": "2019-03-03T12:08:44.064455Z"
    }
   },
   "outputs": [],
   "source": [
    "# action 1"
   ]
  },
  {
   "cell_type": "code",
   "execution_count": null,
   "metadata": {
    "ExecuteTime": {
     "end_time": "2019-01-23T12:59:23.085029Z",
     "start_time": "2019-01-23T12:59:23.055009Z"
    }
   },
   "outputs": [],
   "source": [
    "df.describe(include='datetime')"
   ]
  },
  {
   "cell_type": "markdown",
   "metadata": {},
   "source": [
    "# Save Processed data"
   ]
  },
  {
   "cell_type": "code",
   "execution_count": null,
   "metadata": {
    "ExecuteTime": {
     "end_time": "2019-01-23T12:59:23.408274Z",
     "start_time": "2019-01-23T12:59:23.209114Z"
    }
   },
   "outputs": [],
   "source": [
    "# save path\n",
    "save_path = ''\n",
    "\n",
    "# save"
   ]
  }
 ],
 "metadata": {
  "hide_input": false,
  "kernelspec": {
   "display_name": "Python 3",
   "language": "python",
   "name": "python3"
  },
  "language_info": {
   "codemirror_mode": {
    "name": "ipython",
    "version": 3
   },
   "file_extension": ".py",
   "mimetype": "text/x-python",
   "name": "python",
   "nbconvert_exporter": "python",
   "pygments_lexer": "ipython3",
   "version": "3.6.8"
  },
  "toc": {
   "base_numbering": 1,
   "nav_menu": {},
   "number_sections": true,
   "sideBar": true,
   "skip_h1_title": false,
   "title_cell": "Table of Contents",
   "title_sidebar": "Contents",
   "toc_cell": false,
   "toc_position": {},
   "toc_section_display": true,
   "toc_window_display": false
  },
  "varInspector": {
   "cols": {
    "lenName": 16,
    "lenType": 16,
    "lenVar": 40
   },
   "kernels_config": {
    "python": {
     "delete_cmd_postfix": "",
     "delete_cmd_prefix": "del ",
     "library": "var_list.py",
     "varRefreshCmd": "print(var_dic_list())"
    },
    "r": {
     "delete_cmd_postfix": ") ",
     "delete_cmd_prefix": "rm(",
     "library": "var_list.r",
     "varRefreshCmd": "cat(var_dic_list()) "
    }
   },
   "oldHeight": 122.72681799999998,
   "position": {
    "height": "673.878px",
    "left": "990.281px",
    "right": "20px",
    "top": "141px",
    "width": "564.332px"
   },
   "types_to_exclude": [
    "module",
    "function",
    "builtin_function_or_method",
    "instance",
    "_Feature"
   ],
   "varInspector_section_display": "block",
   "window_display": false
  }
 },
 "nbformat": 4,
 "nbformat_minor": 4
}
