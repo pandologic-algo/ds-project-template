{
 "cells": [
  {
   "cell_type": "markdown",
   "metadata": {},
   "source": [
    "# Data Analysis\n",
    "\n",
    "In this step we play with the data. \n",
    "\n",
    "We check the data behavior:\n",
    "1. Features analysis - distribution, outliers analysis and domain knowledge analysis.\n",
    "2. Time series analysis - stationary, autocorrelation, trends, etc..\n",
    "3. Target analysis:\n",
    "    - Distribution\n",
    "    - Target relationships\n",
    "    - Features interactions with target\n",
    "    - Target time series distribution\n",
    "4. Correlations analysis\n",
    "    - Pearson heatmap\n",
    "    - Feature vs Feature relationships \n",
    "    - PCA\n",
    "5. Features Importance\n",
    "6. Regression Analysis\n",
    "\n",
    "\n",
    "Next step is Data Processing Phase 2."
   ]
  },
  {
   "cell_type": "markdown",
   "metadata": {},
   "source": [
    "# Import "
   ]
  },
  {
   "cell_type": "code",
   "execution_count": null,
   "metadata": {
    "ExecuteTime": {
     "end_time": "2019-01-24T15:03:43.813891Z",
     "start_time": "2019-01-24T15:03:40.292358Z"
    }
   },
   "outputs": [],
   "source": [
    "# math operations\n",
    "import pandas as pd\n",
    "import numpy as np \n",
    "import scipy\n",
    "\n",
    "import xgboost\n",
    "from sklearn.decomposition import PCA\n",
    "from sklearn.preprocessing import StandardScaler\n",
    "import statsmodels.api as sm\n",
    "\n",
    "import matplotlib.pyplot as plt\n",
    "import matplotlib\n",
    "import matplotlib.gridspec as gridspec\n",
    "import seaborn as sns\n",
    "\n",
    "# plotly\n",
    "import plotly\n",
    "from plotly import tools\n",
    "import plotly.graph_objs as go"
   ]
  },
  {
   "cell_type": "markdown",
   "metadata": {},
   "source": [
    "# Init"
   ]
  },
  {
   "cell_type": "code",
   "execution_count": null,
   "metadata": {},
   "outputs": [],
   "source": [
    "# matplotlib font size\n",
    "matplotlib.rcParams.update({'font.size': 22})\n",
    "\n",
    "# seaborn dark theme\n",
    "sns.set(style=\"dark\")\n",
    "\n",
    "# seaborn font scale\n",
    "sns.set(color_codes=True)\n",
    "sns.set(font_scale = 1.2)\n",
    "\n",
    "# plotly offline\n",
    "plotly.offline.init_notebook_mode(connected=True)\n",
    "\n",
    "# pandas columns setting\n",
    "pd.set_option('display.max_columns', 30)\n",
    "\n",
    "# disable warning\n",
    "import warnings\n",
    "warnings.filterwarnings('ignore')\n",
    "\n",
    "# notebook width\n",
    "from IPython.core.display import display, HTML\n",
    "display(HTML(\"<style>.container { width:80% !important; }</style>\"))"
   ]
  },
  {
   "cell_type": "markdown",
   "metadata": {},
   "source": [
    "# Load Data"
   ]
  },
  {
   "cell_type": "code",
   "execution_count": null,
   "metadata": {
    "ExecuteTime": {
     "end_time": "2019-01-24T15:03:44.201662Z",
     "start_time": "2019-01-24T15:03:43.815893Z"
    }
   },
   "outputs": [],
   "source": [
    "data_path = 'path'\n",
    "\n",
    "# read data"
   ]
  },
  {
   "cell_type": "code",
   "execution_count": null,
   "metadata": {},
   "outputs": [],
   "source": []
  },
  {
   "cell_type": "code",
   "execution_count": null,
   "metadata": {},
   "outputs": [],
   "source": []
  },
  {
   "cell_type": "markdown",
   "metadata": {},
   "source": [
    "# Features Analysis"
   ]
  },
  {
   "cell_type": "markdown",
   "metadata": {},
   "source": [
    "## Analysis - Continuous"
   ]
  },
  {
   "cell_type": "code",
   "execution_count": null,
   "metadata": {
    "ExecuteTime": {
     "end_time": "2019-01-24T15:03:44.292724Z",
     "start_time": "2019-01-24T15:03:44.207666Z"
    }
   },
   "outputs": [],
   "source": [
    "# numeric data types\n",
    "numerics = ['int16', 'int32', 'int64', 'float16', 'float32', 'float64']\n",
    "# numeric columns\n",
    "numerics_columns_types = df.select_dtypes(include=numerics).columns\n",
    "\n",
    "\n",
    "# exclude boolean columns\n",
    "exclude_cols = ['col1', 'col2']\n",
    "exclude_fun = lambda y: any(x in y for x in exclude_cols)\n",
    "\n",
    "numeric_cols = [col for col in numerics_columns_types if not exclude_fun(col)]\n",
    "print(numeric_cols)"
   ]
  },
  {
   "cell_type": "markdown",
   "metadata": {},
   "source": [
    "### Analysis"
   ]
  },
  {
   "cell_type": "markdown",
   "metadata": {},
   "source": [
    "__col11:__"
   ]
  },
  {
   "cell_type": "code",
   "execution_count": null,
   "metadata": {
    "ExecuteTime": {
     "end_time": "2019-01-24T15:03:44.309236Z",
     "start_time": "2019-01-24T15:03:44.294725Z"
    }
   },
   "outputs": [],
   "source": [
    "pd.DataFrame(df.col11.describe())"
   ]
  },
  {
   "cell_type": "code",
   "execution_count": null,
   "metadata": {
    "ExecuteTime": {
     "end_time": "2019-01-24T15:03:44.766555Z",
     "start_time": "2019-01-24T15:03:44.310737Z"
    }
   },
   "outputs": [],
   "source": [
    "fig, axes = plt.subplots(1, 2,figsize=(20,8))\n",
    "\n",
    "# both subplots title\n",
    "fig.suptitle('All population')\n",
    "\n",
    "# plot1 object\n",
    "sns.distplot(df.col1, ax=axes[0])\n",
    "\n",
    "# plot1 labels config\n",
    "axes[0].set_title('col1 histogram')\n",
    "\n",
    "# plot2 object\n",
    "sns.boxplot(y=df.col1, ax=axes[1])\n",
    "\n",
    "# plot2 labels config\n",
    "axes[1].set_title('col1 boxplot')\n",
    "\n",
    "# show plot\n",
    "plt.show()"
   ]
  },
  {
   "cell_type": "code",
   "execution_count": null,
   "metadata": {},
   "outputs": [],
   "source": []
  },
  {
   "cell_type": "markdown",
   "metadata": {},
   "source": [
    "### Conclusions\n",
    "\n",
    "* \n",
    "* \n",
    "\n",
    "__Next steps:__\n",
    "\n",
    "* \n",
    "* "
   ]
  },
  {
   "cell_type": "markdown",
   "metadata": {},
   "source": [
    "## Analysis - Booleans"
   ]
  },
  {
   "cell_type": "code",
   "execution_count": null,
   "metadata": {},
   "outputs": [],
   "source": [
    "# numeric data types\n",
    "numerics = ['int16', 'int32', 'int64', 'float16', 'float32', 'float64']\n",
    "# numeric columns\n",
    "numerics_columns_types = df.select_dtypes(include=numerics).columns\n",
    "\n",
    "# exclude boolean columns\n",
    "exclude_fun = lambda y: any(x in y for x in ['is_', 'has_', 'have_'])\n",
    "boolean_cols = [col for col in numerics_columns_types if exclude_fun(col)]\n",
    "\n",
    "print(boolean_cols)"
   ]
  },
  {
   "cell_type": "markdown",
   "metadata": {},
   "source": [
    "### Analysis"
   ]
  },
  {
   "cell_type": "code",
   "execution_count": null,
   "metadata": {
    "ExecuteTime": {
     "end_time": "2019-01-24T15:03:51.250789Z",
     "start_time": "2019-01-24T15:03:51.236778Z"
    }
   },
   "outputs": [],
   "source": [
    "# get the precentage of True values precenatage\n",
    "booleans_df = pd.DataFrame(df[boolean_cols].mean())\n",
    "booleans_df.columns = ['true_precentage']\n",
    "booleans_df = booleans_df.sort_values('true_precentage', ascending=False)"
   ]
  },
  {
   "cell_type": "code",
   "execution_count": null,
   "metadata": {
    "ExecuteTime": {
     "end_time": "2019-01-24T15:03:51.544994Z",
     "start_time": "2019-01-24T15:03:51.252290Z"
    }
   },
   "outputs": [],
   "source": [
    "# plot booleans cols True values precenatage\n",
    "plot = sns.barplot(x=booleans_df.index, y=booleans_df.true_precentage)\n",
    "\n",
    "# plot2 size config\n",
    "plot.figure.set_figwidth(10)\n",
    "plot.figure.set_figwidth(20)\n",
    "\n",
    "# rotate x labels to fit plot\n",
    "plot.set_xticklabels(booleans_df.index, rotation=-45)\n",
    "\n",
    "# titles\n",
    "plot.set_title('Boolean features Distributions')\n",
    "plot.set_xlabel('Feature')\n",
    "plot.set_ylabel('Is True precentage')\n",
    "\n",
    "plt.show()"
   ]
  },
  {
   "cell_type": "code",
   "execution_count": null,
   "metadata": {},
   "outputs": [],
   "source": []
  },
  {
   "cell_type": "markdown",
   "metadata": {},
   "source": [
    "### Conclusions\n",
    "\n",
    "* \n",
    "* \n",
    "\n",
    "__Next steps:__\n",
    "\n",
    "* \n",
    "* "
   ]
  },
  {
   "cell_type": "markdown",
   "metadata": {},
   "source": [
    "## Analysis - Discrete"
   ]
  },
  {
   "cell_type": "code",
   "execution_count": null,
   "metadata": {},
   "outputs": [],
   "source": [
    "discrete_cols = ['col1', 'col2']\n",
    "print(discrete_cols)"
   ]
  },
  {
   "cell_type": "markdown",
   "metadata": {},
   "source": [
    "### Analysis"
   ]
  },
  {
   "cell_type": "markdown",
   "metadata": {},
   "source": [
    "__col1:__\n",
    "\n",
    "High cardinality"
   ]
  },
  {
   "cell_type": "code",
   "execution_count": null,
   "metadata": {
    "ExecuteTime": {
     "end_time": "2019-01-24T15:03:51.565508Z",
     "start_time": "2019-01-24T15:03:51.550997Z"
    }
   },
   "outputs": [],
   "source": [
    "pd.DataFrame(df.col1.describe())"
   ]
  },
  {
   "cell_type": "code",
   "execution_count": null,
   "metadata": {
    "ExecuteTime": {
     "end_time": "2019-01-24T15:03:51.981297Z",
     "start_time": "2019-01-24T15:03:51.567008Z"
    }
   },
   "outputs": [],
   "source": [
    "fig, axes = plt.subplots(1, 2,figsize=(20,4))\n",
    "\n",
    "# plot1 object\n",
    "sns.distplot(df.col1, ax=axes[0])\n",
    "\n",
    "# plot1 labels config\n",
    "axes[0].set_title('col1 Histogram')\n",
    "\n",
    "# plot2 object\n",
    "sns.countplot(df.col1[df.col1>constant], ax=axes[1])\n",
    "\n",
    "# plot2 labels config\n",
    "axes[1].set_title('Right tail Histogram')\n",
    "\n",
    "# show plot\n",
    "plt.show()"
   ]
  },
  {
   "cell_type": "code",
   "execution_count": null,
   "metadata": {},
   "outputs": [],
   "source": []
  },
  {
   "cell_type": "markdown",
   "metadata": {},
   "source": [
    "__col2:__\n",
    "\n",
    "Low cardinality"
   ]
  },
  {
   "cell_type": "code",
   "execution_count": null,
   "metadata": {
    "ExecuteTime": {
     "end_time": "2019-01-24T15:03:51.994806Z",
     "start_time": "2019-01-24T15:03:51.983298Z"
    }
   },
   "outputs": [],
   "source": [
    "pd.DataFrame(df.col2.describe())"
   ]
  },
  {
   "cell_type": "code",
   "execution_count": null,
   "metadata": {
    "ExecuteTime": {
     "end_time": "2019-01-24T15:03:52.165425Z",
     "start_time": "2019-01-24T15:03:51.996307Z"
    }
   },
   "outputs": [],
   "source": [
    "fig, axes = plt.subplots(1, 1,figsize=(20,8))\n",
    "\n",
    "# plot1 object\n",
    "sns.countplot(df.col2, ax=axes)\n",
    "\n",
    "# plot1 size config\n",
    "axes.figure.set_figwidth(14)\n",
    "axes.figure.set_figheight(6)\n",
    "\n",
    "# show plot\n",
    "plt.show()"
   ]
  },
  {
   "cell_type": "code",
   "execution_count": null,
   "metadata": {},
   "outputs": [],
   "source": []
  },
  {
   "cell_type": "markdown",
   "metadata": {},
   "source": [
    "### Conclusions\n",
    "\n",
    "* \n",
    "* \n",
    "\n",
    "__Next steps:__\n",
    "\n",
    "* \n",
    "* "
   ]
  },
  {
   "cell_type": "markdown",
   "metadata": {},
   "source": [
    "## Analysis - Categorical data"
   ]
  },
  {
   "cell_type": "markdown",
   "metadata": {},
   "source": [
    "### Analysis"
   ]
  },
  {
   "cell_type": "code",
   "execution_count": null,
   "metadata": {
    "ExecuteTime": {
     "end_time": "2019-01-24T15:03:52.648761Z",
     "start_time": "2019-01-24T15:03:52.469136Z"
    }
   },
   "outputs": [],
   "source": [
    "cat_cols = df.describe(include='object').columns\n",
    "print(cat_cols.tolist())"
   ]
  },
  {
   "cell_type": "markdown",
   "metadata": {},
   "source": [
    "__col1:__"
   ]
  },
  {
   "cell_type": "code",
   "execution_count": null,
   "metadata": {},
   "outputs": [],
   "source": []
  },
  {
   "cell_type": "markdown",
   "metadata": {},
   "source": [
    "### Conclusions\n",
    "\n",
    "* \n",
    "* \n",
    "\n",
    "__Next steps:__\n",
    "\n",
    "* \n",
    "* "
   ]
  },
  {
   "cell_type": "markdown",
   "metadata": {},
   "source": [
    "## Analysis - Dates"
   ]
  },
  {
   "cell_type": "markdown",
   "metadata": {},
   "source": [
    "### Analysis"
   ]
  },
  {
   "cell_type": "markdown",
   "metadata": {
    "hideOutput": true
   },
   "source": [
    "__Years:__"
   ]
  },
  {
   "cell_type": "code",
   "execution_count": null,
   "metadata": {
    "ExecuteTime": {
     "end_time": "2019-01-16T09:14:57.479141Z",
     "start_time": "2019-01-16T09:14:57.471134Z"
    }
   },
   "outputs": [],
   "source": [
    "years = df.date_col.dt.year.tolist()"
   ]
  },
  {
   "cell_type": "code",
   "execution_count": null,
   "metadata": {
    "ExecuteTime": {
     "end_time": "2019-01-16T09:14:58.601223Z",
     "start_time": "2019-01-16T09:14:58.464132Z"
    }
   },
   "outputs": [],
   "source": [
    "fig, axes = plt.subplots(1, 1,figsize=(20,8))\n",
    "\n",
    "# plot1 object\n",
    "sns.countplot(years, ax=axes)\n",
    "\n",
    "# plot1 size config\n",
    "axes.figure.set_figwidth(6)\n",
    "axes.figure.set_figheight(4)\n",
    "\n",
    "# show plot\n",
    "plt.show()"
   ]
  },
  {
   "cell_type": "code",
   "execution_count": null,
   "metadata": {},
   "outputs": [],
   "source": []
  },
  {
   "cell_type": "markdown",
   "metadata": {},
   "source": [
    "__Months:__"
   ]
  },
  {
   "cell_type": "code",
   "execution_count": null,
   "metadata": {
    "ExecuteTime": {
     "end_time": "2019-01-16T09:15:06.902218Z",
     "start_time": "2019-01-16T09:15:06.894713Z"
    }
   },
   "outputs": [],
   "source": [
    "months = df.date_col.dt.month.tolist()"
   ]
  },
  {
   "cell_type": "code",
   "execution_count": null,
   "metadata": {
    "ExecuteTime": {
     "end_time": "2019-01-16T09:15:07.817833Z",
     "start_time": "2019-01-16T09:15:07.604190Z"
    }
   },
   "outputs": [],
   "source": [
    "fig, axes = plt.subplots(1, 1,figsize=(20,8))\n",
    "\n",
    "# plot1 object\n",
    "sns.countplot(months, ax=axes)\n",
    "\n",
    "# plot1 size config\n",
    "axes.figure.set_figwidth(14)\n",
    "axes.figure.set_figheight(4)\n",
    "\n",
    "# show plot\n",
    "plt.show()"
   ]
  },
  {
   "cell_type": "code",
   "execution_count": null,
   "metadata": {},
   "outputs": [],
   "source": []
  },
  {
   "cell_type": "markdown",
   "metadata": {},
   "source": [
    "__Days of month:__"
   ]
  },
  {
   "cell_type": "code",
   "execution_count": null,
   "metadata": {
    "ExecuteTime": {
     "end_time": "2019-01-16T09:15:46.388325Z",
     "start_time": "2019-01-16T09:15:46.381820Z"
    }
   },
   "outputs": [],
   "source": [
    "days_of_month = df.date_col.dt.day.tolist()"
   ]
  },
  {
   "cell_type": "code",
   "execution_count": null,
   "metadata": {
    "ExecuteTime": {
     "end_time": "2019-01-16T09:15:50.234793Z",
     "start_time": "2019-01-16T09:15:49.935596Z"
    }
   },
   "outputs": [],
   "source": [
    "fig, axes = plt.subplots(1, 1,figsize=(20,8))\n",
    "\n",
    "# plot1 object\n",
    "sns.countplot(days_of_month, ax=axes)\n",
    "\n",
    "# plot1 size config\n",
    "axes.figure.set_figwidth(14)\n",
    "axes.figure.set_figheight(4)\n",
    "\n",
    "# show plot\n",
    "plt.show()"
   ]
  },
  {
   "cell_type": "markdown",
   "metadata": {},
   "source": [
    "### Conclusions\n",
    "\n",
    "* \n",
    "* \n",
    "\n",
    "__Next steps:__\n",
    "\n",
    "* \n",
    "* "
   ]
  },
  {
   "cell_type": "markdown",
   "metadata": {},
   "source": [
    "# Time series Analysis"
   ]
  },
  {
   "cell_type": "code",
   "execution_count": null,
   "metadata": {},
   "outputs": [],
   "source": [
    "df_ts = df.copy()\n",
    "df_ts['date'] = df_ts.date_col.dt.date"
   ]
  },
  {
   "cell_type": "code",
   "execution_count": null,
   "metadata": {
    "ExecuteTime": {
     "end_time": "2019-01-16T09:16:40.591132Z",
     "start_time": "2019-01-16T09:16:40.365983Z"
    }
   },
   "outputs": [],
   "source": [
    "fig, axes = plt.subplots(1, 1,figsize=(20,4))\n",
    "\n",
    "# plot1 object\n",
    "sns.lineplot(x=\"date\", y=\"entity\", data=date_jobs_count_ts, ax=axes)\n",
    "\n",
    "# titles\n",
    "axes.set_title('entity count Time Series')\n",
    "axes.set_xlabel('Date')\n",
    "axes.set_ylabel('entity Count')\n",
    "\n",
    "# show plot\n",
    "plt.show()"
   ]
  },
  {
   "cell_type": "code",
   "execution_count": null,
   "metadata": {},
   "outputs": [],
   "source": []
  },
  {
   "cell_type": "markdown",
   "metadata": {},
   "source": [
    "## Conclusions\n",
    "\n",
    "* \n",
    "* \n",
    "\n",
    "__Next steps:__\n",
    "\n",
    "* \n",
    "* "
   ]
  },
  {
   "cell_type": "markdown",
   "metadata": {},
   "source": [
    "# Target Analysis"
   ]
  },
  {
   "cell_type": "markdown",
   "metadata": {},
   "source": [
    "## Target Distribution"
   ]
  },
  {
   "cell_type": "code",
   "execution_count": null,
   "metadata": {
    "ExecuteTime": {
     "end_time": "2019-01-24T15:03:53.350750Z",
     "start_time": "2019-01-24T15:03:53.338742Z"
    }
   },
   "outputs": [],
   "source": [
    "pd.DataFrame(df.target.describe())"
   ]
  },
  {
   "cell_type": "code",
   "execution_count": null,
   "metadata": {
    "ExecuteTime": {
     "end_time": "2019-01-24T15:03:53.748527Z",
     "start_time": "2019-01-24T15:03:53.352753Z"
    }
   },
   "outputs": [],
   "source": [
    "# target distribution\n",
    "fig, axes = plt.subplots(1, 2,figsize=(20,5))\n",
    "\n",
    "# both subplots title\n",
    "fig.suptitle('All population')\n",
    "\n",
    "\n",
    "# plot1 object\n",
    "sns.distplot(df.target, ax=axes[0])\n",
    "\n",
    "# plot1 size config\n",
    "# axes[0].figure.set_figwidth(14)\n",
    "# axes[0].figure.set_figheight(6)\n",
    "\n",
    "# plot1 labels config\n",
    "axes[0].set_title('target histogram')\n",
    "\n",
    "\n",
    "# plot2 object\n",
    "sns.boxplot(y=df.target, ax=axes[1])\n",
    "\n",
    "# plot2 labels config\n",
    "axes[1].set_title('target boxplot')\n",
    "\n",
    "# show plot\n",
    "plt.show()"
   ]
  },
  {
   "cell_type": "code",
   "execution_count": null,
   "metadata": {
    "ExecuteTime": {
     "end_time": "2019-01-24T15:03:54.087264Z",
     "start_time": "2019-01-24T15:03:53.750529Z"
    }
   },
   "outputs": [],
   "source": [
    "# constant tail plot\n",
    "fig, axes = plt.subplots(1, 1,figsize=(20,4))\n",
    "\n",
    "# plot1 object\n",
    "sns.distplot(df.target[df.target>=const], kde=False, ax=axes)\n",
    "\n",
    "# plot1 labels config\n",
    "axes.set_title('target histogram > const')\n",
    "\n",
    "# show plot\n",
    "plt.show()"
   ]
  },
  {
   "cell_type": "code",
   "execution_count": null,
   "metadata": {},
   "outputs": [],
   "source": []
  },
  {
   "cell_type": "markdown",
   "metadata": {},
   "source": [
    "__Outliers analysis__"
   ]
  },
  {
   "cell_type": "code",
   "execution_count": null,
   "metadata": {},
   "outputs": [],
   "source": []
  },
  {
   "cell_type": "markdown",
   "metadata": {},
   "source": [
    "## Target Relationships"
   ]
  },
  {
   "cell_type": "code",
   "execution_count": null,
   "metadata": {
    "ExecuteTime": {
     "end_time": "2019-01-24T15:03:55.020951Z",
     "start_time": "2019-01-24T15:03:54.089264Z"
    }
   },
   "outputs": [],
   "source": [
    "# get correlation of all features with target\n",
    "data = pd.DataFrame(df.corr()['target'][df.corr().index!='target'])\n",
    "data.target = data.target.abs()\n",
    "data = data.sort_values('target', ascending=False)[:10]\n",
    "\n",
    "fig, axes = plt.subplots(1, 1,figsize=(20,4))\n",
    "\n",
    "# plot1 object\n",
    "sns.barplot(x=data.index, y=data.target, ax=axes)\n",
    "\n",
    "# rotate x labels to fit plot\n",
    "axes.set_xticklabels(data.index, rotation=-45)\n",
    "\n",
    "# titles\n",
    "axes.set_title('Top 10 correlations with target')\n",
    "axes.set_xlabel('Features')\n",
    "axes.set_ylabel('Pearson correlation')\n",
    "\n",
    "# show plot\n",
    "plt.show()"
   ]
  },
  {
   "cell_type": "code",
   "execution_count": null,
   "metadata": {},
   "outputs": [],
   "source": []
  },
  {
   "cell_type": "markdown",
   "metadata": {},
   "source": [
    "__target VS. col1__"
   ]
  },
  {
   "cell_type": "code",
   "execution_count": null,
   "metadata": {
    "ExecuteTime": {
     "end_time": "2019-01-24T15:03:58.759295Z",
     "start_time": "2019-01-24T15:03:55.021951Z"
    }
   },
   "outputs": [],
   "source": [
    "# plot1 object\n",
    "plot = sns.jointplot(x=\"col1\", y=\"total_clicks\", data=df, kind=\"reg\")\n",
    "\n",
    "# show plot\n",
    "plt.show()"
   ]
  },
  {
   "cell_type": "markdown",
   "metadata": {},
   "source": [
    "__target VS. col2__\n",
    "\n",
    "Ordinal Discrete values"
   ]
  },
  {
   "cell_type": "code",
   "execution_count": null,
   "metadata": {
    "ExecuteTime": {
     "end_time": "2019-01-24T15:04:33.466815Z",
     "start_time": "2019-01-24T15:04:29.273921Z"
    }
   },
   "outputs": [],
   "source": [
    "plot = sns.catplot(x=\"col2\", y=\"target\", kind=\"point\", data=df, height=5, aspect=2)"
   ]
  },
  {
   "cell_type": "code",
   "execution_count": null,
   "metadata": {},
   "outputs": [],
   "source": []
  },
  {
   "cell_type": "markdown",
   "metadata": {},
   "source": [
    "__target Vs. col3__\n",
    "\n",
    "High cardinality (target statitics of each category)"
   ]
  },
  {
   "cell_type": "code",
   "execution_count": null,
   "metadata": {
    "ExecuteTime": {
     "end_time": "2019-01-24T08:56:03.542220Z",
     "start_time": "2019-01-24T08:56:02.130282Z"
    }
   },
   "outputs": [],
   "source": [
    "col3_means = df.groupby(['col3'], as_index=False).agg({'target': 'mean'}).sort_values('target', ascending=False)\n",
    "\n",
    "# plot1 object\n",
    "plot = sns.catplot(x=\"col3\", y=\"target\", kind=\"bar\", order=col3_means.col3[:20], height=5, aspect=4, data=df)\n",
    "\n",
    "plot.set_xticklabels(col3_means.col3, rotation=-45)\n",
    "\n",
    "# show plot\n",
    "plt.show()"
   ]
  },
  {
   "cell_type": "code",
   "execution_count": null,
   "metadata": {},
   "outputs": [],
   "source": []
  },
  {
   "cell_type": "markdown",
   "metadata": {},
   "source": [
    "## Features interactions with target"
   ]
  },
  {
   "cell_type": "code",
   "execution_count": null,
   "metadata": {
    "ExecuteTime": {
     "end_time": "2019-01-16T09:52:47.727297Z",
     "start_time": "2019-01-16T09:52:38.838413Z"
    }
   },
   "outputs": [],
   "source": [
    "plot = sns.lmplot(x=\"col1\", y=\"target\", \n",
    "                  hue=\"interaction_col\", \n",
    "                  col='col2',\n",
    "                  row='col3',\n",
    "                  data=df, height=5, aspect=2)\n",
    "\n",
    "plot.set(xlim=(,), ylim=(,))"
   ]
  },
  {
   "cell_type": "code",
   "execution_count": null,
   "metadata": {},
   "outputs": [],
   "source": []
  },
  {
   "cell_type": "markdown",
   "metadata": {},
   "source": [
    "## Target time series"
   ]
  },
  {
   "cell_type": "code",
   "execution_count": null,
   "metadata": {
    "ExecuteTime": {
     "end_time": "2019-01-16T09:54:30.631260Z",
     "start_time": "2019-01-16T09:54:30.580226Z"
    }
   },
   "outputs": [],
   "source": [
    "# time serie df\n",
    "target_ts = df.copy()\n"
   ]
  },
  {
   "cell_type": "code",
   "execution_count": null,
   "metadata": {
    "ExecuteTime": {
     "end_time": "2019-01-16T09:54:36.318865Z",
     "start_time": "2019-01-16T09:54:33.299625Z"
    }
   },
   "outputs": [],
   "source": []
  },
  {
   "cell_type": "markdown",
   "metadata": {},
   "source": [
    "## Conclusions\n",
    "\n",
    "* \n",
    "* \n",
    "\n",
    "__Next steps:__\n",
    "\n",
    "* \n",
    "* "
   ]
  },
  {
   "cell_type": "markdown",
   "metadata": {},
   "source": [
    "# Correlation analysis"
   ]
  },
  {
   "cell_type": "markdown",
   "metadata": {},
   "source": [
    "## High level analysis "
   ]
  },
  {
   "cell_type": "markdown",
   "metadata": {},
   "source": [
    "__Correlation Heatmap:__"
   ]
  },
  {
   "cell_type": "code",
   "execution_count": null,
   "metadata": {},
   "outputs": [],
   "source": [
    "heatmap_cols = []"
   ]
  },
  {
   "cell_type": "code",
   "execution_count": null,
   "metadata": {
    "ExecuteTime": {
     "end_time": "2019-01-24T09:09:52.383545Z",
     "start_time": "2019-01-24T09:09:51.598015Z"
    }
   },
   "outputs": [],
   "source": [
    "plt.figure(figsize=(20, 12))\n",
    "sns.heatmap(df[heatmap_cols].corr())\n",
    "plt.show()"
   ]
  },
  {
   "cell_type": "code",
   "execution_count": null,
   "metadata": {
    "ExecuteTime": {
     "end_time": "2019-01-24T09:09:54.910168Z",
     "start_time": "2019-01-24T09:09:54.830614Z"
    }
   },
   "outputs": [],
   "source": [
    "cor = df[numeric_cols + ['target']].corr().abs()\n",
    "\n",
    "s = pd.DataFrame(cor.unstack().sort_values(kind=\"quicksort\", ascending=False))\n",
    "\n",
    "s[s[0]<1].head(10)\n"
   ]
  },
  {
   "cell_type": "markdown",
   "metadata": {},
   "source": [
    "## Feature vs Feature analysis"
   ]
  },
  {
   "cell_type": "code",
   "execution_count": null,
   "metadata": {
    "ExecuteTime": {
     "end_time": "2019-01-24T08:57:14.822322Z",
     "start_time": "2019-01-24T08:57:10.982771Z"
    }
   },
   "outputs": [],
   "source": [
    "# plot1 object\n",
    "plot = sns.jointplot(x=\"col1\", y=\"col2\", data=df, kind=\"reg\")\n",
    "\n",
    "# show plot\n",
    "plt.show()"
   ]
  },
  {
   "cell_type": "code",
   "execution_count": null,
   "metadata": {},
   "outputs": [],
   "source": [
    "g = sns.PairGrid(df[numeric_cols], palette=\"GnBu_d\")\n",
    "g.map(plt.scatter, s=50, edgecolor=\"white\")"
   ]
  },
  {
   "cell_type": "markdown",
   "metadata": {},
   "source": [
    "## Conclusions\n",
    "\n",
    "* \n",
    "* \n",
    "\n",
    "__Next steps:__\n",
    "\n",
    "* \n",
    "* "
   ]
  },
  {
   "cell_type": "markdown",
   "metadata": {},
   "source": [
    "## PCA analysis"
   ]
  },
  {
   "cell_type": "code",
   "execution_count": null,
   "metadata": {
    "ExecuteTime": {
     "end_time": "2019-01-24T09:05:07.936646Z",
     "start_time": "2019-01-24T09:05:07.784363Z"
    }
   },
   "outputs": [],
   "source": [
    "# only numerical data\n",
    "cols_to_drop = ['col1', 'col2']\n",
    "X_pca = df.loc[:, ~df.columns.isin(cols_to_drop)].copy().dropna()\n",
    "\n",
    "# standerize data\n",
    "z_scaler = StandardScaler()\n",
    "z_data = z_scaler.fit_transform(X_pca)"
   ]
  },
  {
   "cell_type": "code",
   "execution_count": null,
   "metadata": {
    "ExecuteTime": {
     "end_time": "2019-01-24T09:05:09.145987Z",
     "start_time": "2019-01-24T09:05:09.032774Z"
    }
   },
   "outputs": [],
   "source": [
    "pca = PCA(n_components=z_data.shape[1])\n",
    "pca.fit(z_data)\n",
    "\n",
    "# explainded ratio\n",
    "pca.explained_variance_ratio_  "
   ]
  },
  {
   "cell_type": "code",
   "execution_count": null,
   "metadata": {
    "ExecuteTime": {
     "end_time": "2019-01-24T09:05:11.089224Z",
     "start_time": "2019-01-24T09:05:10.952968Z"
    }
   },
   "outputs": [],
   "source": [
    "variance = pca.explained_variance_ratio_ #calculate variance ratios\n",
    "\n",
    "var=np.cumsum(np.round(pca.explained_variance_ratio_, decimals=3)*100)\n",
    "\n",
    "plt.ylabel('% Variance Explained')\n",
    "plt.xlabel('# of Features')\n",
    "plt.title('PCA Analysis')\n",
    "plt.ylim(pca.explained_variance_ratio_.min(), 100.5)\n",
    "plt.style.context('seaborn-whitegrid')\n",
    "\n",
    "\n",
    "plt.plot(var)\n",
    "plt.show()"
   ]
  },
  {
   "cell_type": "markdown",
   "metadata": {},
   "source": [
    "## Conclusions\n",
    "\n",
    "* \n",
    "* \n",
    "\n",
    "__Next steps:__\n",
    "\n",
    "* \n",
    "* "
   ]
  },
  {
   "cell_type": "markdown",
   "metadata": {},
   "source": [
    "# Features importance"
   ]
  },
  {
   "cell_type": "code",
   "execution_count": null,
   "metadata": {
    "ExecuteTime": {
     "end_time": "2019-01-24T09:36:27.606315Z",
     "start_time": "2019-01-24T09:36:27.531266Z"
    }
   },
   "outputs": [],
   "source": [
    "cols_to_drop = ['col1', 'col2']\n",
    "X_importance = df.loc[:, ~df.columns.isin(cols_to_drop)].copy().dropna()"
   ]
  },
  {
   "cell_type": "code",
   "execution_count": null,
   "metadata": {
    "ExecuteTime": {
     "end_time": "2019-01-24T09:07:19.039056Z",
     "start_time": "2019-01-24T09:07:09.085422Z"
    }
   },
   "outputs": [],
   "source": [
    "forest = xgb.XGBRegressor(n_estimators=100,\n",
    "                          random_state=7,\n",
    "                          n_jobs=-1,\n",
    "                          max_depth=10,\n",
    "                          bootstrap=True)\n",
    "\n",
    "\n",
    "forest.fit(X_importance.loc[:, ~X_importance.columns.isin(['target'])], X_importance['target'])\n",
    "importances = forest.feature_importances_"
   ]
  },
  {
   "cell_type": "code",
   "execution_count": null,
   "metadata": {
    "ExecuteTime": {
     "end_time": "2019-01-24T09:07:52.390458Z",
     "start_time": "2019-01-24T09:07:52.365409Z"
    }
   },
   "outputs": [],
   "source": [
    "importance_df = pd.DataFrame({'features': X.loc[:, ~X_importance.columns.isin(['total_clicks'])].columns, 'importances': importances})\n",
    "importance_df.sort_values('importances', ascending=False).reset_index(drop=True)"
   ]
  },
  {
   "cell_type": "markdown",
   "metadata": {},
   "source": [
    "## Conclusions\n",
    "\n",
    "* \n",
    "* \n",
    "\n",
    "__Next steps:__\n",
    "\n",
    "* \n",
    "* "
   ]
  },
  {
   "cell_type": "markdown",
   "metadata": {},
   "source": [
    "# Regression Analysis"
   ]
  },
  {
   "cell_type": "code",
   "execution_count": null,
   "metadata": {
    "ExecuteTime": {
     "end_time": "2019-01-24T09:36:30.326385Z",
     "start_time": "2019-01-24T09:36:29.995167Z"
    }
   },
   "outputs": [],
   "source": [
    "y = X['target'].copy() ## Y usually means our output/dependent variable\n",
    "\n",
    "X_reg = X.loc[:, ~X.columns.isin(['target'])].copy().dropna()\n",
    "\n",
    "# standerize data\n",
    "z_scaler = StandardScaler()\n",
    "X_stand = z_scaler.fit_transform(X_reg)\n",
    "X_stand = pd.DataFrame(X_stand, columns=X.columns.tolist())\n",
    "X_stand = sm.add_constant(X_stand)\n",
    "\n",
    "# Note the difference in argument order\n",
    "model = sm.OLS(y.tolist(), X_stand).fit() ## sm.OLS(output, input)\n",
    "predictions = model.predict(X_stand)\n",
    "\n",
    "# Print out the statistics\n",
    "model.summary()"
   ]
  },
  {
   "cell_type": "code",
   "execution_count": null,
   "metadata": {
    "ExecuteTime": {
     "end_time": "2019-01-24T09:36:39.029761Z",
     "start_time": "2019-01-24T09:36:39.020754Z"
    }
   },
   "outputs": [],
   "source": [
    "reg_pvalues = pd.DataFrame(model.pvalues)\n",
    "reg_pvalues.columns = ['pvalues']\n",
    "reg_pvalues.pvalues = reg_pvalues.pvalues.abs()\n",
    "reg_pvalues[reg_pvalues.pvalues>0.05].sort_values('pvalues', ascending=False)\n"
   ]
  },
  {
   "cell_type": "code",
   "execution_count": null,
   "metadata": {
    "ExecuteTime": {
     "end_time": "2019-01-24T09:37:08.601069Z",
     "start_time": "2019-01-24T09:37:08.587061Z"
    }
   },
   "outputs": [],
   "source": [
    "reg_coef = pd.DataFrame(model.params)\n",
    "reg_coef.columns = ['coef']\n",
    "reg_coef.coef = reg_coef.coef.abs()\n",
    "reg_coef.sort_values('coef', ascending=False)"
   ]
  },
  {
   "cell_type": "markdown",
   "metadata": {},
   "source": [
    "## Conclusions\n",
    "\n",
    "* \n",
    "* \n",
    "\n",
    "__Next steps:__\n",
    "\n",
    "* \n",
    "* "
   ]
  },
  {
   "cell_type": "markdown",
   "metadata": {},
   "source": [
    "# Summary"
   ]
  },
  {
   "cell_type": "markdown",
   "metadata": {},
   "source": [
    "\n",
    "\n",
    "## Features Analysis\n",
    "\n",
    "### Continous Data:\n",
    "\n",
    "* \n",
    "* \n",
    "\n",
    "__Next steps:__\n",
    "\n",
    "* \n",
    "* \n",
    "\n",
    "### Boolean Data:\n",
    "\n",
    "* \n",
    "* \n",
    "\n",
    "__Next steps:__\n",
    "\n",
    "* \n",
    "* \n",
    "\n",
    "### Discrete Data:\n",
    "\n",
    "* \n",
    "* \n",
    "\n",
    "__Next steps:__\n",
    "\n",
    "* \n",
    "* \n",
    "\n",
    "### Categorical Data:\n",
    "\n",
    "* \n",
    "* \n",
    "\n",
    "__Next steps:__\n",
    "\n",
    "* \n",
    "* \n",
    "\n",
    "### Dates Data:\n",
    "\n",
    "* \n",
    "* \n",
    "\n",
    "__Next steps:__\n",
    "\n",
    "* \n",
    "* \n",
    "\n",
    "## Time Series Analysis:\n",
    "\n",
    "* \n",
    "* \n",
    "\n",
    "__Next steps:__\n",
    "\n",
    "* \n",
    "* \n",
    "\n",
    "## Target Analysis:\n",
    "\n",
    "### Target distribution:\n",
    "\n",
    "* \n",
    "* \n",
    "\n",
    "__Next steps:__\n",
    "\n",
    "* \n",
    "* \n",
    "\n",
    "### Target relationships\n",
    "\n",
    "* \n",
    "* \n",
    "\n",
    "__Next steps:__\n",
    "\n",
    "* \n",
    "* \n",
    "\n",
    "### Features interaction with target\n",
    "\n",
    "* \n",
    "* \n",
    "\n",
    "__Next steps:__\n",
    "\n",
    "* \n",
    "* \n",
    "\n",
    "### Target time series\n",
    "\n",
    "* \n",
    "* \n",
    "\n",
    "__Next steps:__\n",
    "\n",
    "* \n",
    "* \n",
    "\n",
    "## Correlations:\n",
    "\n",
    "### High level\n",
    "\n",
    "* \n",
    "* \n",
    "\n",
    "__Next steps:__\n",
    "\n",
    "* \n",
    "* \n",
    "\n",
    "### Feature vs feature\n",
    "\n",
    "* \n",
    "* \n",
    "\n",
    "__Next steps:__\n",
    "\n",
    "* \n",
    "* \n",
    "\n",
    "### PCA\n",
    "\n",
    "* \n",
    "* \n",
    "\n",
    "__Next steps:__\n",
    "\n",
    "* \n",
    "* \n",
    "\n",
    "## Features Importances\n",
    "\n",
    "* \n",
    "* \n",
    "\n",
    "__Next steps:__\n",
    "\n",
    "* \n",
    "* \n",
    "\n",
    "## Regression Analysis:\n",
    "\n",
    "* \n",
    "* \n",
    "\n",
    "__Next steps:__\n",
    "\n",
    "* \n",
    "* \n"
   ]
  }
 ],
 "metadata": {
  "hide_input": false,
  "kernelspec": {
   "display_name": "Python 3",
   "language": "python",
   "name": "python3"
  },
  "language_info": {
   "codemirror_mode": {
    "name": "ipython",
    "version": 3
   },
   "file_extension": ".py",
   "mimetype": "text/x-python",
   "name": "python",
   "nbconvert_exporter": "python",
   "pygments_lexer": "ipython3",
   "version": "3.6.8"
  },
  "toc": {
   "base_numbering": 1,
   "nav_menu": {},
   "number_sections": true,
   "sideBar": true,
   "skip_h1_title": false,
   "title_cell": "Table of Contents",
   "title_sidebar": "Contents",
   "toc_cell": false,
   "toc_position": {
    "height": "calc(100% - 180px)",
    "left": "10px",
    "top": "150px",
    "width": "309.931px"
   },
   "toc_section_display": true,
   "toc_window_display": true
  },
  "varInspector": {
   "cols": {
    "lenName": 16,
    "lenType": 16,
    "lenVar": 40
   },
   "kernels_config": {
    "python": {
     "delete_cmd_postfix": "",
     "delete_cmd_prefix": "del ",
     "library": "var_list.py",
     "varRefreshCmd": "print(var_dic_list())"
    },
    "r": {
     "delete_cmd_postfix": ") ",
     "delete_cmd_prefix": "rm(",
     "library": "var_list.r",
     "varRefreshCmd": "cat(var_dic_list()) "
    }
   },
   "oldHeight": 527,
   "position": {
    "height": "548.807px",
    "left": "1112.99px",
    "right": "20px",
    "top": "4.99716px",
    "width": "607.983px"
   },
   "types_to_exclude": [
    "module",
    "function",
    "builtin_function_or_method",
    "instance",
    "_Feature"
   ],
   "varInspector_section_display": "block",
   "window_display": false
  }
 },
 "nbformat": 4,
 "nbformat_minor": 4
}
