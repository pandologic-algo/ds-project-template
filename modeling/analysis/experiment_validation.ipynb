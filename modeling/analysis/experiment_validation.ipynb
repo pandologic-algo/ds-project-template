{
 "cells": [
  {
   "cell_type": "markdown",
   "metadata": {
    "hideCode": false,
    "hidePrompt": true,
    "papermill": {
     "duration": 0.079999,
     "end_time": "2019-11-10T10:27:03.649021",
     "exception": false,
     "start_time": "2019-11-10T10:27:03.569022",
     "status": "completed"
    },
    "tags": []
   },
   "source": [
    "# Import"
   ]
  },
  {
   "cell_type": "code",
   "execution_count": null,
   "metadata": {
    "ExecuteTime": {
     "end_time": "2019-05-28T14:14:55.979482Z",
     "start_time": "2019-05-28T14:14:50.646487Z"
    },
    "hideCode": false,
    "hidePrompt": true,
    "papermill": {
     "duration": 2.557003,
     "end_time": "2019-11-10T10:27:06.287028",
     "exception": false,
     "start_time": "2019-11-10T10:27:03.730025",
     "status": "completed"
    },
    "tags": []
   },
   "outputs": [],
   "source": [
    "import os\n",
    "import json\n",
    "import pandas as pd\n",
    "import numpy as np\n",
    "\n",
    "# explainability\n",
    "import shap\n",
    "\n",
    "# plotting\n",
    "from statsmodels.graphics.gofplots import ProbPlot\n",
    "import seaborn as sns\n",
    "import matplotlib.pyplot as plt"
   ]
  },
  {
   "cell_type": "markdown",
   "metadata": {},
   "source": [
    "# Init"
   ]
  },
  {
   "cell_type": "code",
   "execution_count": null,
   "metadata": {},
   "outputs": [],
   "source": [
    "# pandas columns setting\n",
    "pd.set_option('display.max_columns', 50)\n",
    "\n",
    "# pretty matplotlib plots\n",
    "plt.style.use('seaborn') \n",
    "\n",
    "# disable warning\n",
    "import warnings\n",
    "warnings.filterwarnings('ignore')\n",
    "\n",
    "# notebook width\n",
    "from IPython.core.display import display, HTML\n",
    "display(HTML(\"<style>.container { width:80% !important; }</style>\"))"
   ]
  },
  {
   "cell_type": "markdown",
   "metadata": {
    "papermill": {
     "duration": 0.082001,
     "end_time": "2019-11-10T10:27:11.614346",
     "exception": false,
     "start_time": "2019-11-10T10:27:11.532345",
     "status": "completed"
    },
    "tags": []
   },
   "source": [
    "## additional evaluation funcs"
   ]
  },
  {
   "cell_type": "code",
   "execution_count": null,
   "metadata": {
    "ExecuteTime": {
     "end_time": "2019-05-25T12:12:44.229867Z",
     "start_time": "2019-05-25T12:12:44.223868Z"
    },
    "papermill": {
     "duration": 0.088969,
     "end_time": "2019-11-10T10:27:11.784347",
     "exception": false,
     "start_time": "2019-11-10T10:27:11.695378",
     "status": "completed"
    },
    "tags": []
   },
   "outputs": [],
   "source": [
    "def eval_func(**kwrgs):\n",
    "    score = 0\n",
    "    \n",
    "    return score"
   ]
  },
  {
   "cell_type": "markdown",
   "metadata": {
    "hideCode": false,
    "hidePrompt": true,
    "papermill": {
     "duration": 0.078965,
     "end_time": "2019-11-10T10:27:10.262913",
     "exception": false,
     "start_time": "2019-11-10T10:27:10.183948",
     "status": "completed"
    },
    "tags": []
   },
   "source": [
    "# Load data"
   ]
  },
  {
   "cell_type": "code",
   "execution_count": null,
   "metadata": {
    "ExecuteTime": {
     "end_time": "2019-05-28T10:12:50.382324Z",
     "start_time": "2019-05-28T10:12:50.374323Z"
    },
    "papermill": {
     "duration": 0.087999,
     "end_time": "2019-11-10T10:27:10.428912",
     "exception": false,
     "start_time": "2019-11-10T10:27:10.340913",
     "status": "completed"
    },
    "tags": []
   },
   "outputs": [],
   "source": [
    "# load data\n"
   ]
  },
  {
   "cell_type": "code",
   "execution_count": null,
   "metadata": {
    "ExecuteTime": {
     "end_time": "2019-05-28T09:02:08.289700Z",
     "start_time": "2019-05-28T09:02:08.183698Z"
    },
    "papermill": {
     "duration": 0.159002,
     "end_time": "2019-11-10T10:27:11.064674",
     "exception": false,
     "start_time": "2019-11-10T10:27:10.905672",
     "status": "completed"
    },
    "tags": []
   },
   "outputs": [],
   "source": [
    "# load results\n"
   ]
  },
  {
   "cell_type": "markdown",
   "metadata": {
    "papermill": {
     "duration": 0.078968,
     "end_time": "2019-11-10T10:27:11.942349",
     "exception": false,
     "start_time": "2019-11-10T10:27:11.863381",
     "status": "completed"
    },
    "tags": []
   },
   "source": [
    "# Validation"
   ]
  },
  {
   "cell_type": "markdown",
   "metadata": {
    "papermill": {
     "duration": 0.079001,
     "end_time": "2019-11-10T10:27:12.263380",
     "exception": false,
     "start_time": "2019-11-10T10:27:12.184379",
     "status": "completed"
    },
    "tags": []
   },
   "source": [
    "## Scores and Parameters"
   ]
  },
  {
   "cell_type": "code",
   "execution_count": null,
   "metadata": {},
   "outputs": [],
   "source": []
  },
  {
   "cell_type": "markdown",
   "metadata": {
    "papermill": {
     "duration": 0.079968,
     "end_time": "2019-11-10T10:27:13.724834",
     "exception": false,
     "start_time": "2019-11-10T10:27:13.644866",
     "status": "completed"
    },
    "tags": []
   },
   "source": [
    "## predictions"
   ]
  },
  {
   "cell_type": "code",
   "execution_count": null,
   "metadata": {
    "ExecuteTime": {
     "end_time": "2019-05-28T09:02:55.193281Z",
     "start_time": "2019-05-28T09:02:54.840283Z"
    },
    "papermill": {
     "duration": 0.327036,
     "end_time": "2019-11-10T10:27:14.310870",
     "exception": false,
     "start_time": "2019-11-10T10:27:13.983834",
     "status": "completed"
    },
    "tags": []
   },
   "outputs": [],
   "source": [
    "fig, axes = plt.subplots(1, 2, figsize=(20,6))\n",
    "\n",
    "# plot1 object\n",
    "sns.distplot(true_vals, ax=axes[0])\n",
    "\n",
    "# plot1 \n",
    "axes[0].set_title('true_vals histogram')\n",
    "\n",
    "# plot2 object\n",
    "sns.distplot(predictions, ax=axes[1])\n",
    "\n",
    "# plot2 \n",
    "axes[1].set_title('predictios histogram')\n",
    "\n",
    "# show plot\n",
    "plt.show()"
   ]
  },
  {
   "cell_type": "markdown",
   "metadata": {
    "papermill": {
     "duration": 0.082998,
     "end_time": "2019-11-10T10:27:14.884320",
     "exception": false,
     "start_time": "2019-11-10T10:27:14.801322",
     "status": "completed"
    },
    "tags": []
   },
   "source": [
    "### Confusion Matrix"
   ]
  },
  {
   "cell_type": "code",
   "execution_count": null,
   "metadata": {
    "ExecuteTime": {
     "end_time": "2019-05-28T09:11:17.423482Z",
     "start_time": "2019-05-28T09:11:17.419982Z"
    },
    "papermill": {
     "duration": 0.092001,
     "end_time": "2019-11-10T10:27:15.060320",
     "exception": false,
     "start_time": "2019-11-10T10:27:14.968319",
     "status": "completed"
    },
    "tags": []
   },
   "outputs": [],
   "source": [
    "labels = [0, 1]"
   ]
  },
  {
   "cell_type": "markdown",
   "metadata": {
    "papermill": {
     "duration": 0.081,
     "end_time": "2019-11-10T10:27:15.221320",
     "exception": false,
     "start_time": "2019-11-10T10:27:15.140320",
     "status": "completed"
    },
    "tags": []
   },
   "source": [
    "#### Counts"
   ]
  },
  {
   "cell_type": "code",
   "execution_count": null,
   "metadata": {
    "ExecuteTime": {
     "end_time": "2019-05-28T09:13:03.603640Z",
     "start_time": "2019-05-28T09:13:03.411127Z"
    },
    "papermill": {
     "duration": 0.214041,
     "end_time": "2019-11-10T10:27:15.516362",
     "exception": false,
     "start_time": "2019-11-10T10:27:15.302321",
     "status": "completed"
    },
    "tags": []
   },
   "outputs": [],
   "source": [
    "# regular\n",
    "cm = confusion_matrix(experiment_data.has_applicants, experiment_data.prediction, labels=labels)\n",
    "df_cm = pd.DataFrame(cm, index=labels, columns=labels)\n",
    "\n",
    "sns.heatmap(df_cm, annot=True, fmt=\"d\")\n",
    "plt.ylabel('True label')\n",
    "plt.xlabel('Predicted label')"
   ]
  },
  {
   "cell_type": "markdown",
   "metadata": {
    "papermill": {
     "duration": 0.079967,
     "end_time": "2019-11-10T10:27:15.676331",
     "exception": false,
     "start_time": "2019-11-10T10:27:15.596364",
     "status": "completed"
    },
    "tags": []
   },
   "source": [
    "#### Normalized"
   ]
  },
  {
   "cell_type": "code",
   "execution_count": null,
   "metadata": {
    "ExecuteTime": {
     "end_time": "2019-05-28T09:14:18.015934Z",
     "start_time": "2019-05-28T09:14:17.828392Z"
    },
    "papermill": {
     "duration": 0.186034,
     "end_time": "2019-11-10T10:27:15.942364",
     "exception": false,
     "start_time": "2019-11-10T10:27:15.756330",
     "status": "completed"
    },
    "tags": []
   },
   "outputs": [],
   "source": [
    "# normalized\n",
    "cm_normalized = cm.astype('float') / cm.sum(axis=1)[:, np.newaxis]\n",
    "df_cm_normalized = pd.DataFrame(cm_normalized, index=labels, columns=labels)\n",
    "\n",
    "sns.heatmap(df_cm_normalized, annot=True)\n",
    "plt.ylabel('True label')\n",
    "plt.xlabel('Predicted label')"
   ]
  },
  {
   "cell_type": "code",
   "execution_count": null,
   "metadata": {
    "papermill": {
     "duration": 0.316006,
     "end_time": "2019-11-10T10:27:16.340369",
     "exception": false,
     "start_time": "2019-11-10T10:27:16.024363",
     "status": "completed"
    },
    "tags": []
   },
   "outputs": [],
   "source": [
    "slack_bot.post_msg('Model Validation - {} - confusion matrix analysis was done'.format('logitstic_classifier_xgboost'))"
   ]
  },
  {
   "cell_type": "markdown",
   "metadata": {
    "papermill": {
     "duration": 0.086005,
     "end_time": "2019-11-10T10:27:16.510352",
     "exception": false,
     "start_time": "2019-11-10T10:27:16.424347",
     "status": "completed"
    },
    "tags": []
   },
   "source": [
    "### Precision-Recall Curve"
   ]
  },
  {
   "cell_type": "code",
   "execution_count": null,
   "metadata": {
    "ExecuteTime": {
     "end_time": "2019-05-28T09:33:05.317977Z",
     "start_time": "2019-05-28T09:33:05.148476Z"
    },
    "papermill": {
     "duration": 0.190001,
     "end_time": "2019-11-10T10:27:16.784350",
     "exception": false,
     "start_time": "2019-11-10T10:27:16.594349",
     "status": "completed"
    },
    "tags": []
   },
   "outputs": [],
   "source": [
    "# calculate precision-recall curve\n",
    "precision, recall, thresholds = precision_recall_curve(true_vals, prediction_probs)\n",
    "\n",
    "# plot no skill\n",
    "plt.plot([0, 1], [0.5, 0.5], linestyle='--')\n",
    "\n",
    "# plot the precision-recall curve for the model\n",
    "plt.plot(recall, precision, marker='.')\n",
    "\n",
    "# show the plot\n",
    "plt.show()"
   ]
  },
  {
   "cell_type": "markdown",
   "metadata": {
    "papermill": {
     "duration": 0.086992,
     "end_time": "2019-11-10T10:27:17.399164",
     "exception": false,
     "start_time": "2019-11-10T10:27:17.312172",
     "status": "completed"
    },
    "tags": []
   },
   "source": [
    "### ROC Curve"
   ]
  },
  {
   "cell_type": "code",
   "execution_count": null,
   "metadata": {
    "ExecuteTime": {
     "end_time": "2019-05-28T09:34:10.562303Z",
     "start_time": "2019-05-28T09:34:10.397300Z"
    },
    "papermill": {
     "duration": 0.188998,
     "end_time": "2019-11-10T10:27:17.674164",
     "exception": false,
     "start_time": "2019-11-10T10:27:17.485166",
     "status": "completed"
    },
    "tags": []
   },
   "outputs": [],
   "source": [
    "fpr, tpr, thresholds = roc_curve(true_vals, prediction_probs)\n",
    "\n",
    "# plot no skill\n",
    "plt.plot([0, 1], [0, 1], linestyle='--')\n",
    "\n",
    "# plot the roc curve for the model\n",
    "plt.plot(fpr, tpr, marker='.')\n",
    "plt.xlabel('fpr')\n",
    "plt.ylabel('tpr')\n",
    "\n",
    "# show the plot\n",
    "plt.show()"
   ]
  },
  {
   "cell_type": "markdown",
   "metadata": {},
   "source": [
    "## Residuals plot"
   ]
  },
  {
   "cell_type": "code",
   "execution_count": null,
   "metadata": {},
   "outputs": [],
   "source": [
    "fig, axes = plt.subplots(1, 1, figsize=(20,6))\n",
    "\n",
    "# plot1 object\n",
    "sns.distplot(true_vals, ax=axes)\n",
    "\n",
    "# plot1 \n",
    "axes.set_title('residuals histogram')\n",
    "\n",
    "# show plot\n",
    "plt.show()"
   ]
  },
  {
   "cell_type": "code",
   "execution_count": null,
   "metadata": {},
   "outputs": [],
   "source": [
    "residuals.abs().describe()"
   ]
  },
  {
   "cell_type": "markdown",
   "metadata": {
    "papermill": {
     "duration": 0.106988,
     "end_time": "2019-11-10T10:27:30.578160",
     "exception": false,
     "start_time": "2019-11-10T10:27:30.471172",
     "status": "completed"
    },
    "tags": []
   },
   "source": [
    "### Residuals vs Fitted"
   ]
  },
  {
   "cell_type": "code",
   "execution_count": null,
   "metadata": {
    "ExecuteTime": {
     "end_time": "2019-05-28T10:19:33.192175Z",
     "start_time": "2019-05-28T10:19:31.863164Z"
    },
    "papermill": {
     "duration": 4.157036,
     "end_time": "2019-11-10T10:27:34.839168",
     "exception": false,
     "start_time": "2019-11-10T10:27:30.682132",
     "status": "completed"
    },
    "tags": []
   },
   "outputs": [],
   "source": [
    "plt.figure(figsize=(20,8))\n",
    "plot_lm = sns.residplot(predictions, \n",
    "                        true_vals, \n",
    "                        lowess=True, \n",
    "                        scatter_kws={'alpha': 0.5}, \n",
    "                        line_kws={'color': 'red', 'lw': 1, 'alpha': 0.8})\n",
    "\n",
    "plot_lm.set_ylim(-0.3, 0.3)\n",
    "# \n",
    "plot_lm.set_title('Residuals vs Fitted')\n",
    "plot_lm.set_xlabel('Fitted values')\n",
    "plot_lm.set_ylabel('Residuals')\n",
    "\n",
    "# annotations\n",
    "abs_resid = vals\n",
    "abs_resid_top_3 = abs_resid[:3]\n",
    "\n",
    "\n",
    "for i in abs_resid_top_3.index:\n",
    "    plot_lm.annotate(abs_resid_top_3.loc[i ,'abs_resid'], \n",
    "                     xy=(abs_resid_top_3.prediction[i], abs_resid_top_3.residuals[i]))"
   ]
  },
  {
   "cell_type": "markdown",
   "metadata": {
    "papermill": {
     "duration": 0.110019,
     "end_time": "2019-11-10T10:27:35.065168",
     "exception": false,
     "start_time": "2019-11-10T10:27:34.955149",
     "status": "completed"
    },
    "tags": []
   },
   "source": [
    "### Residuals vs Prediction Distributions"
   ]
  },
  {
   "cell_type": "code",
   "execution_count": null,
   "metadata": {
    "ExecuteTime": {
     "end_time": "2019-05-28T10:20:32.519080Z",
     "start_time": "2019-05-28T10:20:31.942073Z"
    },
    "papermill": {
     "duration": 0.700002,
     "end_time": "2019-11-10T10:27:35.873139",
     "exception": false,
     "start_time": "2019-11-10T10:27:35.173137",
     "status": "completed"
    },
    "tags": []
   },
   "outputs": [],
   "source": [
    "plt.figure(figsize=(20,8))\n",
    "sns.jointplot(x=predictions, y=residuals)"
   ]
  },
  {
   "cell_type": "markdown",
   "metadata": {
    "papermill": {
     "duration": 0.10703,
     "end_time": "2019-11-10T10:27:36.087175",
     "exception": false,
     "start_time": "2019-11-10T10:27:35.980145",
     "status": "completed"
    },
    "tags": []
   },
   "source": [
    "### Residuals vs Target Distributions"
   ]
  },
  {
   "cell_type": "code",
   "execution_count": null,
   "metadata": {
    "ExecuteTime": {
     "end_time": "2019-05-28T10:20:39.919941Z",
     "start_time": "2019-05-28T10:20:39.350937Z"
    },
    "papermill": {
     "duration": 0.694033,
     "end_time": "2019-11-10T10:27:36.886174",
     "exception": false,
     "start_time": "2019-11-10T10:27:36.192141",
     "status": "completed"
    },
    "tags": []
   },
   "outputs": [],
   "source": [
    "plt.figure(figsize=(20,8))\n",
    "sns.jointplot(x=true_vals, y=residuals)"
   ]
  },
  {
   "cell_type": "markdown",
   "metadata": {
    "papermill": {
     "duration": 0.108995,
     "end_time": "2019-11-10T10:27:39.173149",
     "exception": false,
     "start_time": "2019-11-10T10:27:39.064154",
     "status": "completed"
    },
    "tags": []
   },
   "source": [
    "### Residuals QQ plot"
   ]
  },
  {
   "cell_type": "code",
   "execution_count": null,
   "metadata": {
    "ExecuteTime": {
     "end_time": "2019-05-28T10:21:33.087614Z",
     "start_time": "2019-05-28T10:21:32.886609Z"
    },
    "papermill": {
     "duration": 0.269004,
     "end_time": "2019-11-10T10:27:39.550185",
     "exception": false,
     "start_time": "2019-11-10T10:27:39.281181",
     "status": "completed"
    },
    "tags": []
   },
   "outputs": [],
   "source": [
    "model_norm_residuals = (residuals - residuals.mean()) / (residuals.std())\n",
    "QQ = ProbPlot(model_norm_residuals)\n",
    "plot_lm_2 = QQ.qqplot(line='45', alpha=0.5, color='#4C72B0', lw=1)\n",
    "\n",
    "plot_lm_2.set_figheight(8)\n",
    "plot_lm_2.set_figwidth(12)\n",
    "\n",
    "plot_lm_2.axes[0].set_title('Normal Q-Q')\n",
    "plot_lm_2.axes[0].set_xlabel('Theoretical Quantiles')\n",
    "plot_lm_2.axes[0].set_ylabel('Standardized Residuals');\n",
    "\n",
    "# annotations\n",
    "abs_norm_resid = np.flip(np.argsort(np.abs(model_norm_residuals)), 0)\n",
    "abs_norm_resid_top_3 = abs_norm_resid[:3]"
   ]
  },
  {
   "cell_type": "markdown",
   "metadata": {
    "papermill": {
     "duration": 0.114001,
     "end_time": "2019-11-10T10:27:40.450364",
     "exception": false,
     "start_time": "2019-11-10T10:27:40.336363",
     "status": "completed"
    },
    "tags": []
   },
   "source": [
    "### Outliers"
   ]
  },
  {
   "cell_type": "code",
   "execution_count": null,
   "metadata": {},
   "outputs": [],
   "source": []
  },
  {
   "cell_type": "markdown",
   "metadata": {
    "papermill": {
     "duration": 0.126003,
     "end_time": "2019-11-10T10:27:43.480312",
     "exception": false,
     "start_time": "2019-11-10T10:27:43.354309",
     "status": "completed"
    },
    "tags": []
   },
   "source": [
    "### Features Residuals"
   ]
  },
  {
   "cell_type": "code",
   "execution_count": null,
   "metadata": {
    "ExecuteTime": {
     "end_time": "2019-05-28T10:26:36.754314Z",
     "start_time": "2019-05-28T10:26:36.387306Z"
    },
    "papermill": {
     "duration": 0.360007,
     "end_time": "2019-11-10T10:27:47.151321",
     "exception": false,
     "start_time": "2019-11-10T10:27:46.791314",
     "status": "completed"
    },
    "tags": []
   },
   "outputs": [],
   "source": [
    "sns.boxplot(x=low_card_discrete, y=residuals)"
   ]
  },
  {
   "cell_type": "code",
   "execution_count": null,
   "metadata": {
    "ExecuteTime": {
     "end_time": "2019-05-28T10:25:20.740876Z",
     "start_time": "2019-05-28T10:25:19.770853Z"
    },
    "papermill": {
     "duration": 0.706033,
     "end_time": "2019-11-10T10:27:47.976323",
     "exception": false,
     "start_time": "2019-11-10T10:27:47.270290",
     "status": "completed"
    },
    "tags": []
   },
   "outputs": [],
   "source": [
    "plot = sns.catplot(x=ordinal_discrete, y=abs_resid, kind=\"point\", height=5, aspect=2)"
   ]
  },
  {
   "cell_type": "code",
   "execution_count": null,
   "metadata": {
    "ExecuteTime": {
     "end_time": "2019-05-28T10:22:52.293001Z",
     "start_time": "2019-05-28T10:22:51.845990Z"
    },
    "papermill": {
     "duration": 0.572037,
     "end_time": "2019-11-10T10:27:49.611328",
     "exception": false,
     "start_time": "2019-11-10T10:27:49.039291",
     "status": "completed"
    },
    "tags": []
   },
   "outputs": [],
   "source": [
    "plt.figure(figsize=(20,8))\n",
    "sns.regplot(x=continous_val, y=residuals)"
   ]
  },
  {
   "cell_type": "code",
   "execution_count": null,
   "metadata": {
    "ExecuteTime": {
     "end_time": "2019-05-28T10:27:27.701317Z",
     "start_time": "2019-05-28T10:27:27.330313Z"
    },
    "papermill": {
     "duration": 0.472002,
     "end_time": "2019-11-10T10:27:57.505317",
     "exception": false,
     "start_time": "2019-11-10T10:27:57.033315",
     "status": "completed"
    },
    "tags": []
   },
   "outputs": [],
   "source": [
    "plt.figure(figsize=(24,10))\n",
    "s = plt.scatter(x=continous_feature1, y=continous_feature2, s=10, c=residuals, alpha=.9, cmap='brg_r')\n",
    "\n",
    "plt.colorbar(s)\n",
    "plt.show()"
   ]
  },
  {
   "cell_type": "markdown",
   "metadata": {},
   "source": [
    "### Residuals time series"
   ]
  },
  {
   "cell_type": "code",
   "execution_count": null,
   "metadata": {
    "papermill": {
     "duration": 2.831039,
     "end_time": "2019-11-10T10:27:46.673317",
     "exception": false,
     "start_time": "2019-11-10T10:27:43.842278",
     "status": "completed"
    },
    "tags": []
   },
   "outputs": [],
   "source": [
    "fig, axes = plt.subplots(1, 1,figsize=(20,4))\n",
    "\n",
    "# plot1 object\n",
    "sns.lineplot(x=timestamp_val, y=abs_resid, ax=axes)\n",
    "\n",
    "# show plot\n",
    "plt.show()"
   ]
  },
  {
   "cell_type": "markdown",
   "metadata": {
    "ExecuteTime": {
     "end_time": "2019-05-14T13:25:05.797569Z",
     "start_time": "2019-05-14T13:25:05.793573Z"
    },
    "papermill": {
     "duration": 0.087001,
     "end_time": "2019-11-10T10:27:19.299174",
     "exception": false,
     "start_time": "2019-11-10T10:27:19.212173",
     "status": "completed"
    },
    "tags": []
   },
   "source": [
    "## CV Results"
   ]
  },
  {
   "cell_type": "code",
   "execution_count": null,
   "metadata": {},
   "outputs": [],
   "source": []
  },
  {
   "cell_type": "markdown",
   "metadata": {
    "papermill": {
     "duration": 0.152027,
     "end_time": "2019-11-10T10:27:58.316523",
     "exception": false,
     "start_time": "2019-11-10T10:27:58.164496",
     "status": "completed"
    },
    "tags": []
   },
   "source": [
    "## Importance"
   ]
  },
  {
   "cell_type": "code",
   "execution_count": null,
   "metadata": {
    "ExecuteTime": {
     "end_time": "2019-05-28T10:28:36.937900Z",
     "start_time": "2019-05-28T10:28:36.847902Z"
    },
    "papermill": {
     "duration": 0.194034,
     "end_time": "2019-11-10T10:27:58.653525",
     "exception": false,
     "start_time": "2019-11-10T10:27:58.459491",
     "status": "completed"
    },
    "scrolled": true,
    "tags": []
   },
   "outputs": [],
   "source": [
    "importance_df = pd.DataFrame({'features': feature_names, 'importances': features_importances})\n",
    "importance_df = importance_df.sort_values('importances', ascending=False).reset_index(drop=True)\n",
    "importance_df"
   ]
  },
  {
   "cell_type": "markdown",
   "metadata": {
    "papermill": {
     "duration": 0.088969,
     "end_time": "2019-11-10T10:27:20.791036",
     "exception": false,
     "start_time": "2019-11-10T10:27:20.702067",
     "status": "completed"
    },
    "tags": []
   },
   "source": [
    "## Shap"
   ]
  },
  {
   "cell_type": "code",
   "execution_count": null,
   "metadata": {
    "ExecuteTime": {
     "end_time": "2019-05-28T09:42:54.747770Z",
     "start_time": "2019-05-28T09:42:54.450265Z"
    },
    "papermill": {
     "duration": 0.846989,
     "end_time": "2019-11-10T10:27:21.727071",
     "exception": false,
     "start_time": "2019-11-10T10:27:20.880082",
     "status": "completed"
    },
    "tags": []
   },
   "outputs": [],
   "source": [
    "shap.initjs()\n"
   ]
  },
  {
   "cell_type": "markdown",
   "metadata": {
    "papermill": {
     "duration": 0.098,
     "end_time": "2019-11-10T10:27:21.923071",
     "exception": false,
     "start_time": "2019-11-10T10:27:21.825071",
     "status": "completed"
    },
    "tags": []
   },
   "source": [
    "### Force plot"
   ]
  },
  {
   "cell_type": "code",
   "execution_count": null,
   "metadata": {},
   "outputs": [],
   "source": []
  },
  {
   "cell_type": "markdown",
   "metadata": {
    "papermill": {
     "duration": 0.100029,
     "end_time": "2019-11-10T10:27:23.497391",
     "exception": false,
     "start_time": "2019-11-10T10:27:23.397362",
     "status": "completed"
    },
    "tags": []
   },
   "source": [
    "### summarized features effect"
   ]
  },
  {
   "cell_type": "code",
   "execution_count": null,
   "metadata": {},
   "outputs": [],
   "source": []
  }
 ],
 "metadata": {
  "kernelspec": {
   "display_name": "Python 3",
   "language": "python",
   "name": "python3"
  },
  "language_info": {
   "codemirror_mode": {
    "name": "ipython",
    "version": 3
   },
   "file_extension": ".py",
   "mimetype": "text/x-python",
   "name": "python",
   "nbconvert_exporter": "python",
   "pygments_lexer": "ipython3",
   "version": "3.6.8"
  },
  "papermill": {
   "duration": 145.846976,
   "end_time": "2019-11-10T10:29:27.558027",
   "environment_variables": {},
   "exception": null,
   "input_path": "C:\\Users\\ebrill\\OneDrive - PandoLogic\\Main\\Projects\\Prediction\\RetrainModule_CI\\Training\\ApplicantsRepo\\development\\Applicants/Notebooks/notebooks_utils/5) Model Validation.ipynb",
   "output_path": "C:\\Users\\ebrill\\OneDrive - PandoLogic\\Main\\Projects\\Prediction\\RetrainModule_CI\\Training\\ApplicantsRepo\\development\\Applicants/Notebooks//5) Model Validation.ipynb",
   "parameters": {
    "date_execution": "2019-11-10 12:27:01.606058",
    "notebook_version": 1
   },
   "start_time": "2019-11-10T10:27:01.711051",
   "version": "1.0.0"
  },
  "toc": {
   "base_numbering": 1,
   "nav_menu": {},
   "number_sections": true,
   "sideBar": true,
   "skip_h1_title": false,
   "title_cell": "Table of Contents",
   "title_sidebar": "Contents",
   "toc_cell": false,
   "toc_position": {
    "height": "calc(100% - 180px)",
    "left": "10px",
    "top": "150px",
    "width": "384px"
   },
   "toc_section_display": true,
   "toc_window_display": true
  },
  "varInspector": {
   "cols": {
    "lenName": 16,
    "lenType": 16,
    "lenVar": 40
   },
   "kernels_config": {
    "python": {
     "delete_cmd_postfix": "",
     "delete_cmd_prefix": "del ",
     "library": "var_list.py",
     "varRefreshCmd": "print(var_dic_list())"
    },
    "r": {
     "delete_cmd_postfix": ") ",
     "delete_cmd_prefix": "rm(",
     "library": "var_list.r",
     "varRefreshCmd": "cat(var_dic_list()) "
    }
   },
   "types_to_exclude": [
    "module",
    "function",
    "builtin_function_or_method",
    "instance",
    "_Feature"
   ],
   "window_display": false
  },
  "widgets": {
   "application/vnd.jupyter.widget-state+json": {
    "state": {
     "07685dd2884c49639b32232b7874f5f0": {
      "model_module": "@jupyter-widgets/base",
      "model_module_version": "1.0.0",
      "model_name": "LayoutModel",
      "state": {
       "_model_module": "@jupyter-widgets/base",
       "_model_module_version": "1.0.0",
       "_model_name": "LayoutModel",
       "_view_count": null,
       "_view_module": "@jupyter-widgets/base",
       "_view_module_version": "1.0.0",
       "_view_name": "LayoutView",
       "align_content": null,
       "align_items": null,
       "align_self": null,
       "border": null,
       "bottom": null,
       "display": null,
       "flex": null,
       "flex_flow": null,
       "height": null,
       "justify_content": null,
       "left": null,
       "margin": null,
       "max_height": null,
       "max_width": null,
       "min_height": null,
       "min_width": null,
       "order": null,
       "overflow": null,
       "overflow_x": null,
       "overflow_y": null,
       "padding": null,
       "right": null,
       "top": null,
       "visibility": null,
       "width": null
      }
     },
     "1bb356920cc942c8984a7507087730a3": {
      "model_module": "@jupyter-widgets/base",
      "model_module_version": "1.0.0",
      "model_name": "LayoutModel",
      "state": {
       "_model_module": "@jupyter-widgets/base",
       "_model_module_version": "1.0.0",
       "_model_name": "LayoutModel",
       "_view_count": null,
       "_view_module": "@jupyter-widgets/base",
       "_view_module_version": "1.0.0",
       "_view_name": "LayoutView",
       "align_content": null,
       "align_items": null,
       "align_self": null,
       "border": null,
       "bottom": null,
       "display": null,
       "flex": null,
       "flex_flow": null,
       "height": null,
       "justify_content": null,
       "left": null,
       "margin": null,
       "max_height": null,
       "max_width": null,
       "min_height": null,
       "min_width": null,
       "order": null,
       "overflow": null,
       "overflow_x": null,
       "overflow_y": null,
       "padding": null,
       "right": null,
       "top": null,
       "visibility": null,
       "width": null
      }
     },
     "270897251172421d85765008749dd1ed": {
      "model_module": "@jupyter-widgets/base",
      "model_module_version": "1.0.0",
      "model_name": "LayoutModel",
      "state": {
       "_model_module": "@jupyter-widgets/base",
       "_model_module_version": "1.0.0",
       "_model_name": "LayoutModel",
       "_view_count": null,
       "_view_module": "@jupyter-widgets/base",
       "_view_module_version": "1.0.0",
       "_view_name": "LayoutView",
       "align_content": null,
       "align_items": null,
       "align_self": null,
       "border": null,
       "bottom": null,
       "display": null,
       "flex": null,
       "flex_flow": null,
       "height": null,
       "justify_content": null,
       "left": null,
       "margin": null,
       "max_height": null,
       "max_width": null,
       "min_height": null,
       "min_width": null,
       "order": null,
       "overflow": null,
       "overflow_x": null,
       "overflow_y": null,
       "padding": null,
       "right": null,
       "top": null,
       "visibility": null,
       "width": null
      }
     },
     "3f220be29e1a408fa0ac45bb708b6585": {
      "model_module": "@jupyter-widgets/output",
      "model_module_version": "1.0.0",
      "model_name": "OutputModel",
      "state": {
       "_dom_classes": [],
       "_model_module": "@jupyter-widgets/output",
       "_model_module_version": "1.0.0",
       "_model_name": "OutputModel",
       "_view_count": null,
       "_view_module": "@jupyter-widgets/output",
       "_view_module_version": "1.0.0",
       "_view_name": "OutputView",
       "layout": "IPY_MODEL_e1b3e94a054e4d188d0fa649b4456b2f",
       "msg_id": "",
       "outputs": []
      }
     },
     "52ab05a15c7a4d918b2d764fb36f5318": {
      "model_module": "@jupyter-widgets/controls",
      "model_module_version": "1.2.0",
      "model_name": "VBoxModel",
      "state": {
       "_dom_classes": [
        "widget-interact"
       ],
       "_model_module": "@jupyter-widgets/controls",
       "_model_module_version": "1.2.0",
       "_model_name": "VBoxModel",
       "_view_count": null,
       "_view_module": "@jupyter-widgets/controls",
       "_view_module_version": "1.2.0",
       "_view_name": "VBoxView",
       "box_style": "",
       "children": [
        "IPY_MODEL_64c64421696546f3b73db252b69e204d",
        "IPY_MODEL_3f220be29e1a408fa0ac45bb708b6585"
       ],
       "layout": "IPY_MODEL_1bb356920cc942c8984a7507087730a3"
      }
     },
     "6427563fa02848a1b0f2808e8b8d18b0": {
      "model_module": "@jupyter-widgets/base",
      "model_module_version": "1.0.0",
      "model_name": "LayoutModel",
      "state": {
       "_model_module": "@jupyter-widgets/base",
       "_model_module_version": "1.0.0",
       "_model_name": "LayoutModel",
       "_view_count": null,
       "_view_module": "@jupyter-widgets/base",
       "_view_module_version": "1.0.0",
       "_view_name": "LayoutView",
       "align_content": null,
       "align_items": null,
       "align_self": null,
       "border": null,
       "bottom": null,
       "display": null,
       "flex": null,
       "flex_flow": null,
       "height": null,
       "justify_content": null,
       "left": null,
       "margin": null,
       "max_height": null,
       "max_width": null,
       "min_height": null,
       "min_width": null,
       "order": null,
       "overflow": null,
       "overflow_x": null,
       "overflow_y": null,
       "padding": null,
       "right": null,
       "top": null,
       "visibility": null,
       "width": null
      }
     },
     "64c64421696546f3b73db252b69e204d": {
      "model_module": "@jupyter-widgets/controls",
      "model_module_version": "1.2.0",
      "model_name": "IntSliderModel",
      "state": {
       "_dom_classes": [],
       "_model_module": "@jupyter-widgets/controls",
       "_model_module_version": "1.2.0",
       "_model_name": "IntSliderModel",
       "_view_count": null,
       "_view_module": "@jupyter-widgets/controls",
       "_view_module_version": "1.2.0",
       "_view_name": "IntSliderView",
       "continuous_update": true,
       "description": "tree_index",
       "disabled": false,
       "layout": "IPY_MODEL_07685dd2884c49639b32232b7874f5f0",
       "max": 1050,
       "min": 0,
       "orientation": "horizontal",
       "readout": true,
       "readout_format": "d",
       "step": 1,
       "style": "IPY_MODEL_f2c263b66589437db429c3226e08383c",
       "value": 0
      }
     },
     "7a4280805227414bafe64ff6c6811353": {
      "model_module": "@jupyter-widgets/controls",
      "model_module_version": "1.2.0",
      "model_name": "VBoxModel",
      "state": {
       "_dom_classes": [
        "widget-interact"
       ],
       "_model_module": "@jupyter-widgets/controls",
       "_model_module_version": "1.2.0",
       "_model_name": "VBoxModel",
       "_view_count": null,
       "_view_module": "@jupyter-widgets/controls",
       "_view_module_version": "1.2.0",
       "_view_name": "VBoxView",
       "box_style": "",
       "children": [
        "IPY_MODEL_e52d02a19cba4f6a8c09b538fa029713",
        "IPY_MODEL_e2d15d1d27ee4b6eb75b533419bb1a0c"
       ],
       "layout": "IPY_MODEL_270897251172421d85765008749dd1ed"
      }
     },
     "d594800f3dad45a18d7aa2896671a52b": {
      "model_module": "@jupyter-widgets/base",
      "model_module_version": "1.0.0",
      "model_name": "LayoutModel",
      "state": {
       "_model_module": "@jupyter-widgets/base",
       "_model_module_version": "1.0.0",
       "_model_name": "LayoutModel",
       "_view_count": null,
       "_view_module": "@jupyter-widgets/base",
       "_view_module_version": "1.0.0",
       "_view_name": "LayoutView",
       "align_content": null,
       "align_items": null,
       "align_self": null,
       "border": null,
       "bottom": null,
       "display": null,
       "flex": null,
       "flex_flow": null,
       "height": null,
       "justify_content": null,
       "left": null,
       "margin": null,
       "max_height": null,
       "max_width": null,
       "min_height": null,
       "min_width": null,
       "order": null,
       "overflow": null,
       "overflow_x": null,
       "overflow_y": null,
       "padding": null,
       "right": null,
       "top": null,
       "visibility": null,
       "width": null
      }
     },
     "daf8a3e5f5204dde8a9bfc53ddead745": {
      "model_module": "@jupyter-widgets/controls",
      "model_module_version": "1.2.0",
      "model_name": "SliderStyleModel",
      "state": {
       "_model_module": "@jupyter-widgets/controls",
       "_model_module_version": "1.2.0",
       "_model_name": "SliderStyleModel",
       "_view_count": null,
       "_view_module": "@jupyter-widgets/base",
       "_view_module_version": "1.0.0",
       "_view_name": "StyleView",
       "description_width": "",
       "handle_color": null
      }
     },
     "e1b3e94a054e4d188d0fa649b4456b2f": {
      "model_module": "@jupyter-widgets/base",
      "model_module_version": "1.0.0",
      "model_name": "LayoutModel",
      "state": {
       "_model_module": "@jupyter-widgets/base",
       "_model_module_version": "1.0.0",
       "_model_name": "LayoutModel",
       "_view_count": null,
       "_view_module": "@jupyter-widgets/base",
       "_view_module_version": "1.0.0",
       "_view_name": "LayoutView",
       "align_content": null,
       "align_items": null,
       "align_self": null,
       "border": null,
       "bottom": null,
       "display": null,
       "flex": null,
       "flex_flow": null,
       "height": null,
       "justify_content": null,
       "left": null,
       "margin": null,
       "max_height": null,
       "max_width": null,
       "min_height": null,
       "min_width": null,
       "order": null,
       "overflow": null,
       "overflow_x": null,
       "overflow_y": null,
       "padding": null,
       "right": null,
       "top": null,
       "visibility": null,
       "width": null
      }
     },
     "e2d15d1d27ee4b6eb75b533419bb1a0c": {
      "model_module": "@jupyter-widgets/output",
      "model_module_version": "1.0.0",
      "model_name": "OutputModel",
      "state": {
       "_dom_classes": [],
       "_model_module": "@jupyter-widgets/output",
       "_model_module_version": "1.0.0",
       "_model_name": "OutputModel",
       "_view_count": null,
       "_view_module": "@jupyter-widgets/output",
       "_view_module_version": "1.0.0",
       "_view_name": "OutputView",
       "layout": "IPY_MODEL_d594800f3dad45a18d7aa2896671a52b",
       "msg_id": "",
       "outputs": []
      }
     },
     "e52d02a19cba4f6a8c09b538fa029713": {
      "model_module": "@jupyter-widgets/controls",
      "model_module_version": "1.2.0",
      "model_name": "IntSliderModel",
      "state": {
       "_dom_classes": [],
       "_model_module": "@jupyter-widgets/controls",
       "_model_module_version": "1.2.0",
       "_model_name": "IntSliderModel",
       "_view_count": null,
       "_view_module": "@jupyter-widgets/controls",
       "_view_module_version": "1.2.0",
       "_view_name": "IntSliderView",
       "continuous_update": true,
       "description": "tree_index",
       "disabled": false,
       "layout": "IPY_MODEL_6427563fa02848a1b0f2808e8b8d18b0",
       "max": 1325,
       "min": 0,
       "orientation": "horizontal",
       "readout": true,
       "readout_format": "d",
       "step": 1,
       "style": "IPY_MODEL_daf8a3e5f5204dde8a9bfc53ddead745",
       "value": 0
      }
     },
     "f2c263b66589437db429c3226e08383c": {
      "model_module": "@jupyter-widgets/controls",
      "model_module_version": "1.2.0",
      "model_name": "SliderStyleModel",
      "state": {
       "_model_module": "@jupyter-widgets/controls",
       "_model_module_version": "1.2.0",
       "_model_name": "SliderStyleModel",
       "_view_count": null,
       "_view_module": "@jupyter-widgets/base",
       "_view_module_version": "1.0.0",
       "_view_name": "StyleView",
       "description_width": "",
       "handle_color": null
      }
     }
    },
    "version_major": 2,
    "version_minor": 0
   }
  }
 },
 "nbformat": 4,
 "nbformat_minor": 4
}
